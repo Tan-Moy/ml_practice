{
 "cells": [
  {
   "cell_type": "code",
   "execution_count": 1,
   "metadata": {
    "collapsed": true
   },
   "outputs": [],
   "source": [
    "import numpy as np\n",
    "import pandas as pd\n",
    "from datetime import datetime\n",
    "from sortedcontainers import SortedList \n",
    "#SortedList is a sequence data type that always maintains its values in ascending sort orderSortedList is a sequence data type that always maintains its values in ascending sort order"
   ]
  },
  {
   "cell_type": "code",
   "execution_count": 2,
   "metadata": {},
   "outputs": [
    {
     "data": {
      "text/plain": [
       "array([[1, 0, 0, ..., 0, 0, 0],\n",
       "       [0, 0, 0, ..., 0, 0, 0],\n",
       "       [1, 0, 0, ..., 0, 0, 0],\n",
       "       ..., \n",
       "       [7, 0, 0, ..., 0, 0, 0],\n",
       "       [6, 0, 0, ..., 0, 0, 0],\n",
       "       [9, 0, 0, ..., 0, 0, 0]])"
      ]
     },
     "execution_count": 2,
     "metadata": {},
     "output_type": "execute_result"
    }
   ],
   "source": [
    "df = df = pd.read_csv('train.csv')\n",
    "data = df.as_matrix()\n",
    "data"
   ]
  },
  {
   "cell_type": "code",
   "execution_count": 3,
   "metadata": {},
   "outputs": [
    {
     "name": "stdout",
     "output_type": "stream",
     "text": [
      "(42000, 784) (42000,)\n"
     ]
    }
   ],
   "source": [
    "X = data[:,1:]/255.0 #scaling values, removed the first column\n",
    "Y = data[:,0] #here is the first column\n",
    "print(X.shape, Y.shape)"
   ]
  },
  {
   "cell_type": "code",
   "execution_count": 4,
   "metadata": {},
   "outputs": [
    {
     "data": {
      "text/plain": [
       "array([[1, 0, 0, ..., 0, 0, 0],\n",
       "       [0, 0, 0, ..., 0, 0, 0],\n",
       "       [1, 0, 0, ..., 0, 0, 0],\n",
       "       ..., \n",
       "       [7, 0, 0, ..., 0, 0, 0],\n",
       "       [6, 0, 0, ..., 0, 0, 0],\n",
       "       [9, 0, 0, ..., 0, 0, 0]])"
      ]
     },
     "execution_count": 4,
     "metadata": {},
     "output_type": "execute_result"
    }
   ],
   "source": [
    "data"
   ]
  },
  {
   "cell_type": "code",
   "execution_count": 5,
   "metadata": {
    "collapsed": true
   },
   "outputs": [],
   "source": [
    "#get data\n",
    "def get_data(limit=None):\n",
    "    print (\"Reading and transforming data...\")\n",
    "    df = df = pd.read_csv('train.csv')\n",
    "    data = df.as_matrix() #converting to numpy matrix\n",
    "    np.random.shuffle(data)\n",
    "    X = data[:,1:]/255.0 #scaling values, removed the first column\n",
    "    Y = data[:,0] #here is the first column\n",
    "    if limit is not None:\n",
    "        X,Y = X[:limit],Y[:limit]\n",
    "    return X,Y"
   ]
  },
  {
   "cell_type": "code",
   "execution_count": 8,
   "metadata": {
    "collapsed": true
   },
   "outputs": [],
   "source": [
    "class KNN(object):\n",
    "    def __init__(self,k):\n",
    "        self.k = k #hyperparameter\n",
    "    \n",
    "    def fit(self,X,y): #Knn is lazy i.e it does nothing with train data except store them\n",
    "        self.X = X\n",
    "        self.y = y\n",
    "    \n",
    "    def predict(self,X):\n",
    "        y = np.zeros(len(X))\n",
    "        for i,x in enumerate(X): #loop over the rows of X\n",
    "            sl = SortedList(load = self.k) #Load specifies the size\n",
    "            for j,xt in enumerate(self.X): \n",
    "                diff = x - xt #subtracting row from other rows look at the toy data below\n",
    "                #in this case since the function is monotonically increasing, it doesnot matter if we use the eucidean or square ditance\n",
    "                d = diff @ diff #dotting with itself is same as squaring and adding\n",
    "                if len(sl) < self.k:\n",
    "                    #if len of sorted list is less than the k specified, add currently calculated distance to it\n",
    "                    sl.add((d,self.y[j])) # y[j] refers to the class label of jth row \n",
    "                else:\n",
    "                    #else if the current distance is less than the last element of the sorted list, replace the last element with current distance\n",
    "                    if d < sl[-1][0]:\n",
    "                        del sl[-1]\n",
    "                        sl.add((d,self.y[j]))\n",
    "            votes = {}\n",
    "            for _, v in sl:\n",
    "                votes[v] = votes.get(v,0) + 1 #get(key,default value to be returned if key not found); +1 for counting each addition\n",
    "                max_votes = 0 #initialise to zero\n",
    "                max_votes_class = -1 \n",
    "                for v,count in votes:\n",
    "                    if count > max_votes:\n",
    "                        max_votes = count\n",
    "                        max_votes_class = v\n",
    "            y[i] = max_votes_class\n",
    "        return y\n",
    "            \n",
    "    def score(self,X,Y):\n",
    "        P = self.predict(X)\n",
    "        return np.mean(P == Y)\n"
   ]
  },
  {
   "cell_type": "code",
   "execution_count": 9,
   "metadata": {},
   "outputs": [
    {
     "name": "stdout",
     "output_type": "stream",
     "text": [
      "Reading and transforming data...\n",
      "Training time:  0:00:00.000065\n"
     ]
    },
    {
     "ename": "TypeError",
     "evalue": "'numpy.int64' object is not iterable",
     "output_type": "error",
     "traceback": [
      "\u001b[0;31m---------------------------------------------------------------------------\u001b[0m",
      "\u001b[0;31mTypeError\u001b[0m                                 Traceback (most recent call last)",
      "\u001b[0;32m<ipython-input-9-b809d93e6838>\u001b[0m in \u001b[0;36m<module>\u001b[0;34m()\u001b[0m\n\u001b[1;32m     10\u001b[0m \u001b[0;34m\u001b[0m\u001b[0m\n\u001b[1;32m     11\u001b[0m     \u001b[0mt1\u001b[0m \u001b[0;34m=\u001b[0m \u001b[0mdatetime\u001b[0m\u001b[0;34m.\u001b[0m\u001b[0mnow\u001b[0m\u001b[0;34m(\u001b[0m\u001b[0;34m)\u001b[0m\u001b[0;34m\u001b[0m\u001b[0m\n\u001b[0;32m---> 12\u001b[0;31m     \u001b[0mprint\u001b[0m \u001b[0;34m(\u001b[0m\u001b[0;34m\"Train accuracy: \"\u001b[0m\u001b[0;34m,\u001b[0m\u001b[0mknn\u001b[0m\u001b[0;34m.\u001b[0m\u001b[0mscore\u001b[0m\u001b[0;34m(\u001b[0m\u001b[0mXtrain\u001b[0m\u001b[0;34m,\u001b[0m\u001b[0mYtrain\u001b[0m\u001b[0;34m)\u001b[0m\u001b[0;34m)\u001b[0m\u001b[0;34m\u001b[0m\u001b[0m\n\u001b[0m\u001b[1;32m     13\u001b[0m     \u001b[0mprint\u001b[0m \u001b[0;34m(\u001b[0m\u001b[0;34m\"Training accuracy compute time: \"\u001b[0m\u001b[0;34m,\u001b[0m\u001b[0mdatetime\u001b[0m\u001b[0;34m.\u001b[0m\u001b[0mnow\u001b[0m\u001b[0;34m(\u001b[0m\u001b[0;34m)\u001b[0m \u001b[0;34m-\u001b[0m \u001b[0mt1\u001b[0m\u001b[0;34m)\u001b[0m\u001b[0;34m\u001b[0m\u001b[0m\n\u001b[1;32m     14\u001b[0m \u001b[0;34m\u001b[0m\u001b[0m\n",
      "\u001b[0;32m<ipython-input-8-033161a72fe5>\u001b[0m in \u001b[0;36mscore\u001b[0;34m(self, X, Y)\u001b[0m\n\u001b[1;32m     36\u001b[0m \u001b[0;34m\u001b[0m\u001b[0m\n\u001b[1;32m     37\u001b[0m     \u001b[0;32mdef\u001b[0m \u001b[0mscore\u001b[0m\u001b[0;34m(\u001b[0m\u001b[0mself\u001b[0m\u001b[0;34m,\u001b[0m\u001b[0mX\u001b[0m\u001b[0;34m,\u001b[0m\u001b[0mY\u001b[0m\u001b[0;34m)\u001b[0m\u001b[0;34m:\u001b[0m\u001b[0;34m\u001b[0m\u001b[0m\n\u001b[0;32m---> 38\u001b[0;31m         \u001b[0mP\u001b[0m \u001b[0;34m=\u001b[0m \u001b[0mself\u001b[0m\u001b[0;34m.\u001b[0m\u001b[0mpredict\u001b[0m\u001b[0;34m(\u001b[0m\u001b[0mX\u001b[0m\u001b[0;34m)\u001b[0m\u001b[0;34m\u001b[0m\u001b[0m\n\u001b[0m\u001b[1;32m     39\u001b[0m         \u001b[0;32mreturn\u001b[0m \u001b[0mnp\u001b[0m\u001b[0;34m.\u001b[0m\u001b[0mmean\u001b[0m\u001b[0;34m(\u001b[0m\u001b[0mP\u001b[0m \u001b[0;34m==\u001b[0m \u001b[0mY\u001b[0m\u001b[0;34m)\u001b[0m\u001b[0;34m\u001b[0m\u001b[0m\n",
      "\u001b[0;32m<ipython-input-8-033161a72fe5>\u001b[0m in \u001b[0;36mpredict\u001b[0;34m(self, X)\u001b[0m\n\u001b[1;32m     28\u001b[0m                 \u001b[0mmax_votes\u001b[0m \u001b[0;34m=\u001b[0m \u001b[0;36m0\u001b[0m \u001b[0;31m#initialise to zero\u001b[0m\u001b[0;34m\u001b[0m\u001b[0m\n\u001b[1;32m     29\u001b[0m                 \u001b[0mmax_votes_class\u001b[0m \u001b[0;34m=\u001b[0m \u001b[0;34m-\u001b[0m\u001b[0;36m1\u001b[0m\u001b[0;34m\u001b[0m\u001b[0m\n\u001b[0;32m---> 30\u001b[0;31m                 \u001b[0;32mfor\u001b[0m \u001b[0mv\u001b[0m\u001b[0;34m,\u001b[0m\u001b[0mcount\u001b[0m \u001b[0;32min\u001b[0m \u001b[0mvotes\u001b[0m\u001b[0;34m:\u001b[0m\u001b[0;34m\u001b[0m\u001b[0m\n\u001b[0m\u001b[1;32m     31\u001b[0m                     \u001b[0;32mif\u001b[0m \u001b[0mcount\u001b[0m \u001b[0;34m>\u001b[0m \u001b[0mmax_votes\u001b[0m\u001b[0;34m:\u001b[0m\u001b[0;34m\u001b[0m\u001b[0m\n\u001b[1;32m     32\u001b[0m                         \u001b[0mmax_votes\u001b[0m \u001b[0;34m=\u001b[0m \u001b[0mcount\u001b[0m\u001b[0;34m\u001b[0m\u001b[0m\n",
      "\u001b[0;31mTypeError\u001b[0m: 'numpy.int64' object is not iterable"
     ]
    }
   ],
   "source": [
    "X,Y = get_data(2000) #limiting to 2000 points. My pc is old\n",
    "Ntrain = 1000\n",
    "Xtrain,Ytrain = X[:Ntrain],Y[:Ntrain] #1st one thousand points for training \n",
    "Xtest,Ytest = X[Ntrain:],Y[Ntrain:]\n",
    "for k in (1,2,3,4,5):\n",
    "    knn = KNN(k)\n",
    "    t0 = datetime.now()\n",
    "    knn.fit(Xtrain,Ytrain)\n",
    "    print (\"Training time: \",datetime.now() - t0)\n",
    "\n",
    "    t1 = datetime.now()\n",
    "    print (\"Train accuracy: \",knn.score(Xtrain,Ytrain))\n",
    "    print (\"Training accuracy compute time: \",datetime.now() - t1)\n",
    "\n",
    "    t1 = datetime.now()\n",
    "    print (\"test accuracy: \",knn.score(Xtest,Ytest))\n",
    "    print (\"Testing accuracy compute time: \",datetime.now() - t1)"
   ]
  },
  {
   "cell_type": "code",
   "execution_count": 67,
   "metadata": {
    "collapsed": true
   },
   "outputs": [
    {
     "name": "stdout",
     "output_type": "stream",
     "text": [
      "row 0: [2 3 1 0]\n",
      "x-xt: [2 3 1 0] - [2 3 1 0]: [0 0 0 0] \n",
      "square diff: 0\n",
      "x-xt: [2 3 1 0] - [1 5 8 9]: [ 1 -2 -7 -9] \n",
      "square diff: 135\n",
      "x-xt: [2 3 1 0] - [1 2 8 7]: [ 1  1 -7 -7] \n",
      "square diff: 100\n",
      "row 1: [1 5 8 9]\n",
      "x-xt: [1 5 8 9] - [2 3 1 0]: [-1  2  7  9] \n",
      "square diff: 135\n",
      "x-xt: [1 5 8 9] - [1 5 8 9]: [0 0 0 0] \n",
      "square diff: 0\n",
      "x-xt: [1 5 8 9] - [1 2 8 7]: [0 3 0 2] \n",
      "square diff: 13\n",
      "row 2: [1 2 8 7]\n",
      "x-xt: [1 2 8 7] - [2 3 1 0]: [-1 -1  7  7] \n",
      "square diff: 100\n",
      "x-xt: [1 2 8 7] - [1 5 8 9]: [ 0 -3  0 -2] \n",
      "square diff: 13\n",
      "x-xt: [1 2 8 7] - [1 2 8 7]: [0 0 0 0] \n",
      "square diff: 0\n"
     ]
    }
   ],
   "source": [
    "# # toy demonstration of the above loops\n",
    "# toy_data =  np.array([[2,3,1,0],[1,5,8,9],[1,2,8,7]])\n",
    "# for i,x in enumerate(toy_data):\n",
    "#     print (\"row {}: {}\".format(i,x))\n",
    "#     for j,xt in enumerate(toy_data):\n",
    "#         print(\"x-xt: {} - {}: {} \".format(x,xt,x-xt))\n",
    "#         diff = x-xt\n",
    "#         print(\"square diff: {}\".format(diff @ diff))"
   ]
  },
  {
   "cell_type": "code",
   "execution_count": null,
   "metadata": {
    "collapsed": true
   },
   "outputs": [],
   "source": []
  }
 ],
 "metadata": {
  "kernelspec": {
   "display_name": "Python 3",
   "language": "python",
   "name": "python3"
  },
  "language_info": {
   "codemirror_mode": {
    "name": "ipython",
    "version": 3
   },
   "file_extension": ".py",
   "mimetype": "text/x-python",
   "name": "python",
   "nbconvert_exporter": "python",
   "pygments_lexer": "ipython3",
   "version": "3.6.3"
  }
 },
 "nbformat": 4,
 "nbformat_minor": 2
}
