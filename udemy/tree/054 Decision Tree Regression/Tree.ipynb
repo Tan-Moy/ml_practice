{
 "cells": [
  {
   "cell_type": "markdown",
   "metadata": {},
   "source": [
    "# Decision Tree\n",
    "\n",
    "CART (Classification  and Regression Tree)"
   ]
  },
  {
   "cell_type": "markdown",
   "metadata": {},
   "source": [
    "## What is Decision Tree?"
   ]
  },
  {
   "cell_type": "markdown",
   "metadata": {},
   "source": [
    "<img src=\"img\\tree.png\" width=50% height=50%>"
   ]
  },
  {
   "cell_type": "markdown",
   "metadata": {},
   "source": [
    "***\n",
    "* Supervised Learning\n",
    "\n",
    "* Works for both classification and regression\n",
    "\n",
    "* Foundation of Random Forests\n",
    "\n",
    "* Attractive because of interpretability\n",
    "\n"
   ]
  },
  {
   "cell_type": "markdown",
   "metadata": {},
   "source": [
    "***\n",
    "\n",
    "Decision Tree works by:\n",
    "\n",
    "* Split based on set impurity criteria\n",
    "* Stopping criteria\n"
   ]
  },
  {
   "cell_type": "markdown",
   "metadata": {},
   "source": [
    "***\n",
    "\n",
    "Source: [Scikit-Learn](http://scikit-learn.org/stable/modules/tree.html#tree)\n",
    "\n",
    "Some **advantages** of decision trees are:\n",
    "* Simple to understand and to interpret. Trees can be visualised.\n",
    "* Requires little data preparation. \n",
    "* Able to handle both numerical and categorical data.\n",
    "* Possible to validate a model using statistical tests. \n",
    "* Performs well even if its assumptions are somewhat violated by the true model from which the data were generated.\n",
    "\n",
    "The **disadvantages** of decision trees include:\n",
    "* Overfitting. Mechanisms such as pruning (not currently supported), setting the minimum number of samples required at a leaf node or setting the maximum depth of the tree are necessary to avoid this problem.\n",
    "* Decision trees can be unstable. Mitigant: Use decision trees within an ensemble.\n",
    "* Cannot guarantee to return the globally optimal decision tree. Mitigant: Training multiple trees in an ensemble learner\n",
    "* Decision tree learners create biased trees if some classes dominate. Recommendation: Balance the dataset prior to fitting\n"
   ]
  },
  {
   "cell_type": "markdown",
   "metadata": {},
   "source": [
    "***\n",
    "\n",
    "## Questions:\n",
    "\n",
    "1. What is a decision tree?\n",
    "\n",
    "2. Where can you apply decision tree to? numerical problems or categorical problems?\n",
    "\n",
    "3. Decision tree is also know by what other name?\n",
    "\n",
    "4. How does a decision tree work?\n",
    "\n",
    "5. Decision Tree is a foundation of what machine learning algorithm\n",
    "\n",
    "6. List and explain 3 advantages of decision tree\n",
    "\n",
    "7. List and explain 3 disadvantages of decision tree"
   ]
  },
  {
   "cell_type": "markdown",
   "metadata": {},
   "source": [
    "# Classification"
   ]
  },
  {
   "cell_type": "markdown",
   "metadata": {},
   "source": [
    "## Training a Decision Tree with Scikit-Learn Library"
   ]
  },
  {
   "cell_type": "code",
   "execution_count": 1,
   "metadata": {
    "collapsed": true
   },
   "outputs": [],
   "source": [
    "from sklearn import tree"
   ]
  },
  {
   "cell_type": "code",
   "execution_count": 2,
   "metadata": {
    "collapsed": true
   },
   "outputs": [],
   "source": [
    "X = [[0, 0], [1, 2]]\n",
    "y = [0, 1]"
   ]
  },
  {
   "cell_type": "code",
   "execution_count": 3,
   "metadata": {
    "collapsed": true
   },
   "outputs": [],
   "source": [
    "clf = tree.DecisionTreeClassifier()"
   ]
  },
  {
   "cell_type": "code",
   "execution_count": 4,
   "metadata": {
    "collapsed": true
   },
   "outputs": [],
   "source": [
    "clf = clf.fit(X, y)"
   ]
  },
  {
   "cell_type": "code",
   "execution_count": 5,
   "metadata": {},
   "outputs": [
    {
     "data": {
      "text/plain": [
       "array([1])"
      ]
     },
     "execution_count": 5,
     "metadata": {},
     "output_type": "execute_result"
    }
   ],
   "source": [
    "clf.predict([[2., 2.]])"
   ]
  },
  {
   "cell_type": "code",
   "execution_count": 6,
   "metadata": {},
   "outputs": [
    {
     "data": {
      "text/plain": [
       "array([[ 0.,  1.]])"
      ]
     },
     "execution_count": 6,
     "metadata": {},
     "output_type": "execute_result"
    }
   ],
   "source": [
    "clf.predict_proba([[2. , 2.]])"
   ]
  },
  {
   "cell_type": "code",
   "execution_count": 7,
   "metadata": {},
   "outputs": [
    {
     "data": {
      "text/plain": [
       "array([0])"
      ]
     },
     "execution_count": 7,
     "metadata": {},
     "output_type": "execute_result"
    }
   ],
   "source": [
    "clf.predict([[0.4, 1.2]])"
   ]
  },
  {
   "cell_type": "code",
   "execution_count": 8,
   "metadata": {},
   "outputs": [
    {
     "data": {
      "text/plain": [
       "array([[ 1.,  0.]])"
      ]
     },
     "execution_count": 8,
     "metadata": {},
     "output_type": "execute_result"
    }
   ],
   "source": [
    "clf.predict_proba([[0.4, 1.2]])"
   ]
  },
  {
   "cell_type": "code",
   "execution_count": 9,
   "metadata": {},
   "outputs": [
    {
     "data": {
      "text/plain": [
       "array([[ 1.,  0.]])"
      ]
     },
     "execution_count": 9,
     "metadata": {},
     "output_type": "execute_result"
    }
   ],
   "source": [
    "clf.predict_proba([[0, 0.2]])"
   ]
  },
  {
   "cell_type": "markdown",
   "metadata": {},
   "source": [
    "`DecisionTreeClassifier` is capable of both binary (where the labels are [-1, 1]) classification and multiclass (where the labels are [0, …, K-1]) classification."
   ]
  },
  {
   "cell_type": "markdown",
   "metadata": {},
   "source": [
    "## Applying to Iris Dataset"
   ]
  },
  {
   "cell_type": "code",
   "execution_count": 10,
   "metadata": {
    "collapsed": true
   },
   "outputs": [],
   "source": [
    "from sklearn.datasets import load_iris\n",
    "from sklearn import tree\n",
    "iris = load_iris()"
   ]
  },
  {
   "cell_type": "code",
   "execution_count": 11,
   "metadata": {},
   "outputs": [
    {
     "data": {
      "text/plain": [
       "array([[ 5.1,  3.5,  1.4,  0.2],\n",
       "       [ 4.9,  3. ,  1.4,  0.2],\n",
       "       [ 4.7,  3.2,  1.3,  0.2],\n",
       "       [ 4.6,  3.1,  1.5,  0.2],\n",
       "       [ 5. ,  3.6,  1.4,  0.2]])"
      ]
     },
     "execution_count": 11,
     "metadata": {},
     "output_type": "execute_result"
    }
   ],
   "source": [
    "iris.data[0:5]"
   ]
  },
  {
   "cell_type": "code",
   "execution_count": 12,
   "metadata": {},
   "outputs": [
    {
     "data": {
      "text/plain": [
       "['sepal length (cm)',\n",
       " 'sepal width (cm)',\n",
       " 'petal length (cm)',\n",
       " 'petal width (cm)']"
      ]
     },
     "execution_count": 12,
     "metadata": {},
     "output_type": "execute_result"
    }
   ],
   "source": [
    "iris.feature_names"
   ]
  },
  {
   "cell_type": "code",
   "execution_count": 13,
   "metadata": {
    "collapsed": true
   },
   "outputs": [],
   "source": [
    "X = iris.data[:, 2:]"
   ]
  },
  {
   "cell_type": "code",
   "execution_count": 14,
   "metadata": {
    "collapsed": true
   },
   "outputs": [],
   "source": [
    "y = iris.target"
   ]
  },
  {
   "cell_type": "code",
   "execution_count": 15,
   "metadata": {},
   "outputs": [
    {
     "data": {
      "text/plain": [
       "array([0, 0, 0, 0, 0, 0, 0, 0, 0, 0, 0, 0, 0, 0, 0, 0, 0, 0, 0, 0, 0, 0, 0,\n",
       "       0, 0, 0, 0, 0, 0, 0, 0, 0, 0, 0, 0, 0, 0, 0, 0, 0, 0, 0, 0, 0, 0, 0,\n",
       "       0, 0, 0, 0, 1, 1, 1, 1, 1, 1, 1, 1, 1, 1, 1, 1, 1, 1, 1, 1, 1, 1, 1,\n",
       "       1, 1, 1, 1, 1, 1, 1, 1, 1, 1, 1, 1, 1, 1, 1, 1, 1, 1, 1, 1, 1, 1, 1,\n",
       "       1, 1, 1, 1, 1, 1, 1, 1, 2, 2, 2, 2, 2, 2, 2, 2, 2, 2, 2, 2, 2, 2, 2,\n",
       "       2, 2, 2, 2, 2, 2, 2, 2, 2, 2, 2, 2, 2, 2, 2, 2, 2, 2, 2, 2, 2, 2, 2,\n",
       "       2, 2, 2, 2, 2, 2, 2, 2, 2, 2, 2, 2])"
      ]
     },
     "execution_count": 15,
     "metadata": {},
     "output_type": "execute_result"
    }
   ],
   "source": [
    "y"
   ]
  },
  {
   "cell_type": "code",
   "execution_count": 16,
   "metadata": {
    "collapsed": true
   },
   "outputs": [],
   "source": [
    "clf = tree.DecisionTreeClassifier(random_state=42)"
   ]
  },
  {
   "cell_type": "code",
   "execution_count": 17,
   "metadata": {
    "collapsed": true
   },
   "outputs": [],
   "source": [
    "clf = clf.fit(X, y)"
   ]
  },
  {
   "cell_type": "markdown",
   "metadata": {},
   "source": [
    "### Export_graphviz"
   ]
  },
  {
   "cell_type": "code",
   "execution_count": 18,
   "metadata": {
    "collapsed": true
   },
   "outputs": [],
   "source": [
    "from sklearn.tree import export_graphviz"
   ]
  },
  {
   "cell_type": "code",
   "execution_count": 19,
   "metadata": {
    "collapsed": true
   },
   "outputs": [],
   "source": [
    "export_graphviz(clf,\n",
    "                out_file=\"tree.dot\",\n",
    "                feature_names=iris.feature_names[2:],\n",
    "                class_names=iris.target_names,\n",
    "                rounded=True,\n",
    "                filled=True)"
   ]
  },
  {
   "cell_type": "markdown",
   "metadata": {},
   "source": [
    "Run the following line on your command prompt\n",
    "\n",
    "`$ dot -Tpng tree.dot -o tree.png`"
   ]
  },
  {
   "cell_type": "markdown",
   "metadata": {},
   "source": [
    "<img src=\"img\\tree.png\" width=60% height=60%>"
   ]
  },
  {
   "cell_type": "markdown",
   "metadata": {},
   "source": [
    "## Graphviz"
   ]
  },
  {
   "cell_type": "code",
   "execution_count": 9,
   "metadata": {
    "collapsed": true
   },
   "outputs": [],
   "source": [
    "import graphviz"
   ]
  },
  {
   "cell_type": "code",
   "execution_count": 21,
   "metadata": {
    "collapsed": true
   },
   "outputs": [],
   "source": [
    "dot_data = tree.export_graphviz(clf, out_file=None,\n",
    "                                feature_names=iris.feature_names[2:],\n",
    "                                class_names=iris.target_names,\n",
    "                                rounded=True,\n",
    "                                filled=True)"
   ]
  },
  {
   "cell_type": "code",
   "execution_count": 22,
   "metadata": {
    "collapsed": true
   },
   "outputs": [],
   "source": [
    "graph = graphviz.Source(dot_data)"
   ]
  },
  {
   "cell_type": "code",
   "execution_count": 23,
   "metadata": {},
   "outputs": [
    {
     "data": {
      "image/svg+xml": [
       "<?xml version=\"1.0\" encoding=\"UTF-8\" standalone=\"no\"?>\r\n",
       "<!DOCTYPE svg PUBLIC \"-//W3C//DTD SVG 1.1//EN\"\r\n",
       " \"http://www.w3.org/Graphics/SVG/1.1/DTD/svg11.dtd\">\r\n",
       "<!-- Generated by graphviz version 2.38.0 (20140413.2041)\r\n",
       " -->\r\n",
       "<!-- Title: Tree Pages: 1 -->\r\n",
       "<svg width=\"758pt\" height=\"671pt\"\r\n",
       " viewBox=\"0.00 0.00 758.00 671.00\" xmlns=\"http://www.w3.org/2000/svg\" xmlns:xlink=\"http://www.w3.org/1999/xlink\">\r\n",
       "<g id=\"graph0\" class=\"graph\" transform=\"scale(1 1) rotate(0) translate(4 667)\">\r\n",
       "<title>Tree</title>\r\n",
       "<polygon fill=\"white\" stroke=\"none\" points=\"-4,4 -4,-667 754,-667 754,4 -4,4\"/>\r\n",
       "<!-- 0 -->\r\n",
       "<g id=\"node1\" class=\"node\"><title>0</title>\r\n",
       "<path fill=\"none\" stroke=\"black\" d=\"M457.5,-663C457.5,-663 307.5,-663 307.5,-663 301.5,-663 295.5,-657 295.5,-651 295.5,-651 295.5,-592 295.5,-592 295.5,-586 301.5,-580 307.5,-580 307.5,-580 457.5,-580 457.5,-580 463.5,-580 469.5,-586 469.5,-592 469.5,-592 469.5,-651 469.5,-651 469.5,-657 463.5,-663 457.5,-663\"/>\r\n",
       "<text text-anchor=\"middle\" x=\"382.5\" y=\"-647.8\" font-family=\"Helvetica,sans-Serif\" font-size=\"14.00\">petal length (cm) &lt;= 2.45</text>\r\n",
       "<text text-anchor=\"middle\" x=\"382.5\" y=\"-632.8\" font-family=\"Helvetica,sans-Serif\" font-size=\"14.00\">gini = 0.667</text>\r\n",
       "<text text-anchor=\"middle\" x=\"382.5\" y=\"-617.8\" font-family=\"Helvetica,sans-Serif\" font-size=\"14.00\">samples = 150</text>\r\n",
       "<text text-anchor=\"middle\" x=\"382.5\" y=\"-602.8\" font-family=\"Helvetica,sans-Serif\" font-size=\"14.00\">value = [50, 50, 50]</text>\r\n",
       "<text text-anchor=\"middle\" x=\"382.5\" y=\"-587.8\" font-family=\"Helvetica,sans-Serif\" font-size=\"14.00\">class = setosa</text>\r\n",
       "</g>\r\n",
       "<!-- 1 -->\r\n",
       "<g id=\"node2\" class=\"node\"><title>1</title>\r\n",
       "<path fill=\"#e58139\" stroke=\"black\" d=\"M350,-536.5C350,-536.5 253,-536.5 253,-536.5 247,-536.5 241,-530.5 241,-524.5 241,-524.5 241,-480.5 241,-480.5 241,-474.5 247,-468.5 253,-468.5 253,-468.5 350,-468.5 350,-468.5 356,-468.5 362,-474.5 362,-480.5 362,-480.5 362,-524.5 362,-524.5 362,-530.5 356,-536.5 350,-536.5\"/>\r\n",
       "<text text-anchor=\"middle\" x=\"301.5\" y=\"-521.3\" font-family=\"Helvetica,sans-Serif\" font-size=\"14.00\">gini = 0.0</text>\r\n",
       "<text text-anchor=\"middle\" x=\"301.5\" y=\"-506.3\" font-family=\"Helvetica,sans-Serif\" font-size=\"14.00\">samples = 50</text>\r\n",
       "<text text-anchor=\"middle\" x=\"301.5\" y=\"-491.3\" font-family=\"Helvetica,sans-Serif\" font-size=\"14.00\">value = [50, 0, 0]</text>\r\n",
       "<text text-anchor=\"middle\" x=\"301.5\" y=\"-476.3\" font-family=\"Helvetica,sans-Serif\" font-size=\"14.00\">class = setosa</text>\r\n",
       "</g>\r\n",
       "<!-- 0&#45;&gt;1 -->\r\n",
       "<g id=\"edge1\" class=\"edge\"><title>0&#45;&gt;1</title>\r\n",
       "<path fill=\"none\" stroke=\"black\" d=\"M354.397,-579.907C346.605,-568.652 338.136,-556.418 330.304,-545.106\"/>\r\n",
       "<polygon fill=\"black\" stroke=\"black\" points=\"333.032,-542.897 324.462,-536.667 327.276,-546.881 333.032,-542.897\"/>\r\n",
       "<text text-anchor=\"middle\" x=\"319.99\" y=\"-557.564\" font-family=\"Helvetica,sans-Serif\" font-size=\"14.00\">True</text>\r\n",
       "</g>\r\n",
       "<!-- 2 -->\r\n",
       "<g id=\"node3\" class=\"node\"><title>2</title>\r\n",
       "<path fill=\"none\" stroke=\"black\" d=\"M536.5,-544C536.5,-544 392.5,-544 392.5,-544 386.5,-544 380.5,-538 380.5,-532 380.5,-532 380.5,-473 380.5,-473 380.5,-467 386.5,-461 392.5,-461 392.5,-461 536.5,-461 536.5,-461 542.5,-461 548.5,-467 548.5,-473 548.5,-473 548.5,-532 548.5,-532 548.5,-538 542.5,-544 536.5,-544\"/>\r\n",
       "<text text-anchor=\"middle\" x=\"464.5\" y=\"-528.8\" font-family=\"Helvetica,sans-Serif\" font-size=\"14.00\">petal width (cm) &lt;= 1.75</text>\r\n",
       "<text text-anchor=\"middle\" x=\"464.5\" y=\"-513.8\" font-family=\"Helvetica,sans-Serif\" font-size=\"14.00\">gini = 0.5</text>\r\n",
       "<text text-anchor=\"middle\" x=\"464.5\" y=\"-498.8\" font-family=\"Helvetica,sans-Serif\" font-size=\"14.00\">samples = 100</text>\r\n",
       "<text text-anchor=\"middle\" x=\"464.5\" y=\"-483.8\" font-family=\"Helvetica,sans-Serif\" font-size=\"14.00\">value = [0, 50, 50]</text>\r\n",
       "<text text-anchor=\"middle\" x=\"464.5\" y=\"-468.8\" font-family=\"Helvetica,sans-Serif\" font-size=\"14.00\">class = versicolor</text>\r\n",
       "</g>\r\n",
       "<!-- 0&#45;&gt;2 -->\r\n",
       "<g id=\"edge2\" class=\"edge\"><title>0&#45;&gt;2</title>\r\n",
       "<path fill=\"none\" stroke=\"black\" d=\"M410.949,-579.907C417.183,-571.014 423.844,-561.509 430.277,-552.331\"/>\r\n",
       "<polygon fill=\"black\" stroke=\"black\" points=\"433.228,-554.219 436.101,-544.021 427.495,-550.201 433.228,-554.219\"/>\r\n",
       "<text text-anchor=\"middle\" x=\"440.431\" y=\"-564.943\" font-family=\"Helvetica,sans-Serif\" font-size=\"14.00\">False</text>\r\n",
       "</g>\r\n",
       "<!-- 3 -->\r\n",
       "<g id=\"node4\" class=\"node\"><title>3</title>\r\n",
       "<path fill=\"#39e581\" fill-opacity=\"0.898039\" stroke=\"black\" d=\"M443.5,-425C443.5,-425 293.5,-425 293.5,-425 287.5,-425 281.5,-419 281.5,-413 281.5,-413 281.5,-354 281.5,-354 281.5,-348 287.5,-342 293.5,-342 293.5,-342 443.5,-342 443.5,-342 449.5,-342 455.5,-348 455.5,-354 455.5,-354 455.5,-413 455.5,-413 455.5,-419 449.5,-425 443.5,-425\"/>\r\n",
       "<text text-anchor=\"middle\" x=\"368.5\" y=\"-409.8\" font-family=\"Helvetica,sans-Serif\" font-size=\"14.00\">petal length (cm) &lt;= 4.95</text>\r\n",
       "<text text-anchor=\"middle\" x=\"368.5\" y=\"-394.8\" font-family=\"Helvetica,sans-Serif\" font-size=\"14.00\">gini = 0.168</text>\r\n",
       "<text text-anchor=\"middle\" x=\"368.5\" y=\"-379.8\" font-family=\"Helvetica,sans-Serif\" font-size=\"14.00\">samples = 54</text>\r\n",
       "<text text-anchor=\"middle\" x=\"368.5\" y=\"-364.8\" font-family=\"Helvetica,sans-Serif\" font-size=\"14.00\">value = [0, 49, 5]</text>\r\n",
       "<text text-anchor=\"middle\" x=\"368.5\" y=\"-349.8\" font-family=\"Helvetica,sans-Serif\" font-size=\"14.00\">class = versicolor</text>\r\n",
       "</g>\r\n",
       "<!-- 2&#45;&gt;3 -->\r\n",
       "<g id=\"edge3\" class=\"edge\"><title>2&#45;&gt;3</title>\r\n",
       "<path fill=\"none\" stroke=\"black\" d=\"M431.193,-460.907C423.747,-451.832 415.779,-442.121 408.106,-432.769\"/>\r\n",
       "<polygon fill=\"black\" stroke=\"black\" points=\"410.797,-430.531 401.748,-425.021 405.385,-434.972 410.797,-430.531\"/>\r\n",
       "</g>\r\n",
       "<!-- 12 -->\r\n",
       "<g id=\"node13\" class=\"node\"><title>12</title>\r\n",
       "<path fill=\"#8139e5\" fill-opacity=\"0.976471\" stroke=\"black\" d=\"M635.5,-425C635.5,-425 485.5,-425 485.5,-425 479.5,-425 473.5,-419 473.5,-413 473.5,-413 473.5,-354 473.5,-354 473.5,-348 479.5,-342 485.5,-342 485.5,-342 635.5,-342 635.5,-342 641.5,-342 647.5,-348 647.5,-354 647.5,-354 647.5,-413 647.5,-413 647.5,-419 641.5,-425 635.5,-425\"/>\r\n",
       "<text text-anchor=\"middle\" x=\"560.5\" y=\"-409.8\" font-family=\"Helvetica,sans-Serif\" font-size=\"14.00\">petal length (cm) &lt;= 4.85</text>\r\n",
       "<text text-anchor=\"middle\" x=\"560.5\" y=\"-394.8\" font-family=\"Helvetica,sans-Serif\" font-size=\"14.00\">gini = 0.043</text>\r\n",
       "<text text-anchor=\"middle\" x=\"560.5\" y=\"-379.8\" font-family=\"Helvetica,sans-Serif\" font-size=\"14.00\">samples = 46</text>\r\n",
       "<text text-anchor=\"middle\" x=\"560.5\" y=\"-364.8\" font-family=\"Helvetica,sans-Serif\" font-size=\"14.00\">value = [0, 1, 45]</text>\r\n",
       "<text text-anchor=\"middle\" x=\"560.5\" y=\"-349.8\" font-family=\"Helvetica,sans-Serif\" font-size=\"14.00\">class = virginica</text>\r\n",
       "</g>\r\n",
       "<!-- 2&#45;&gt;12 -->\r\n",
       "<g id=\"edge12\" class=\"edge\"><title>2&#45;&gt;12</title>\r\n",
       "<path fill=\"none\" stroke=\"black\" d=\"M497.807,-460.907C505.253,-451.832 513.221,-442.121 520.894,-432.769\"/>\r\n",
       "<polygon fill=\"black\" stroke=\"black\" points=\"523.615,-434.972 527.252,-425.021 518.203,-430.531 523.615,-434.972\"/>\r\n",
       "</g>\r\n",
       "<!-- 4 -->\r\n",
       "<g id=\"node5\" class=\"node\"><title>4</title>\r\n",
       "<path fill=\"#39e581\" fill-opacity=\"0.980392\" stroke=\"black\" d=\"M262.5,-306C262.5,-306 118.5,-306 118.5,-306 112.5,-306 106.5,-300 106.5,-294 106.5,-294 106.5,-235 106.5,-235 106.5,-229 112.5,-223 118.5,-223 118.5,-223 262.5,-223 262.5,-223 268.5,-223 274.5,-229 274.5,-235 274.5,-235 274.5,-294 274.5,-294 274.5,-300 268.5,-306 262.5,-306\"/>\r\n",
       "<text text-anchor=\"middle\" x=\"190.5\" y=\"-290.8\" font-family=\"Helvetica,sans-Serif\" font-size=\"14.00\">petal width (cm) &lt;= 1.65</text>\r\n",
       "<text text-anchor=\"middle\" x=\"190.5\" y=\"-275.8\" font-family=\"Helvetica,sans-Serif\" font-size=\"14.00\">gini = 0.041</text>\r\n",
       "<text text-anchor=\"middle\" x=\"190.5\" y=\"-260.8\" font-family=\"Helvetica,sans-Serif\" font-size=\"14.00\">samples = 48</text>\r\n",
       "<text text-anchor=\"middle\" x=\"190.5\" y=\"-245.8\" font-family=\"Helvetica,sans-Serif\" font-size=\"14.00\">value = [0, 47, 1]</text>\r\n",
       "<text text-anchor=\"middle\" x=\"190.5\" y=\"-230.8\" font-family=\"Helvetica,sans-Serif\" font-size=\"14.00\">class = versicolor</text>\r\n",
       "</g>\r\n",
       "<!-- 3&#45;&gt;4 -->\r\n",
       "<g id=\"edge4\" class=\"edge\"><title>3&#45;&gt;4</title>\r\n",
       "<path fill=\"none\" stroke=\"black\" d=\"M306.744,-341.907C291.833,-332.106 275.792,-321.563 260.532,-311.533\"/>\r\n",
       "<polygon fill=\"black\" stroke=\"black\" points=\"262.426,-308.589 252.147,-306.021 258.581,-314.438 262.426,-308.589\"/>\r\n",
       "</g>\r\n",
       "<!-- 7 -->\r\n",
       "<g id=\"node8\" class=\"node\"><title>7</title>\r\n",
       "<path fill=\"#8139e5\" fill-opacity=\"0.498039\" stroke=\"black\" d=\"M448.5,-306C448.5,-306 304.5,-306 304.5,-306 298.5,-306 292.5,-300 292.5,-294 292.5,-294 292.5,-235 292.5,-235 292.5,-229 298.5,-223 304.5,-223 304.5,-223 448.5,-223 448.5,-223 454.5,-223 460.5,-229 460.5,-235 460.5,-235 460.5,-294 460.5,-294 460.5,-300 454.5,-306 448.5,-306\"/>\r\n",
       "<text text-anchor=\"middle\" x=\"376.5\" y=\"-290.8\" font-family=\"Helvetica,sans-Serif\" font-size=\"14.00\">petal width (cm) &lt;= 1.55</text>\r\n",
       "<text text-anchor=\"middle\" x=\"376.5\" y=\"-275.8\" font-family=\"Helvetica,sans-Serif\" font-size=\"14.00\">gini = 0.444</text>\r\n",
       "<text text-anchor=\"middle\" x=\"376.5\" y=\"-260.8\" font-family=\"Helvetica,sans-Serif\" font-size=\"14.00\">samples = 6</text>\r\n",
       "<text text-anchor=\"middle\" x=\"376.5\" y=\"-245.8\" font-family=\"Helvetica,sans-Serif\" font-size=\"14.00\">value = [0, 2, 4]</text>\r\n",
       "<text text-anchor=\"middle\" x=\"376.5\" y=\"-230.8\" font-family=\"Helvetica,sans-Serif\" font-size=\"14.00\">class = virginica</text>\r\n",
       "</g>\r\n",
       "<!-- 3&#45;&gt;7 -->\r\n",
       "<g id=\"edge7\" class=\"edge\"><title>3&#45;&gt;7</title>\r\n",
       "<path fill=\"none\" stroke=\"black\" d=\"M371.276,-341.907C371.846,-333.558 372.454,-324.671 373.046,-316.02\"/>\r\n",
       "<polygon fill=\"black\" stroke=\"black\" points=\"376.539,-316.236 373.729,-306.021 369.555,-315.759 376.539,-316.236\"/>\r\n",
       "</g>\r\n",
       "<!-- 5 -->\r\n",
       "<g id=\"node6\" class=\"node\"><title>5</title>\r\n",
       "<path fill=\"#39e581\" stroke=\"black\" d=\"M115,-179.5C115,-179.5 12,-179.5 12,-179.5 6,-179.5 -7.10543e-015,-173.5 -7.10543e-015,-167.5 -7.10543e-015,-167.5 -7.10543e-015,-123.5 -7.10543e-015,-123.5 -7.10543e-015,-117.5 6,-111.5 12,-111.5 12,-111.5 115,-111.5 115,-111.5 121,-111.5 127,-117.5 127,-123.5 127,-123.5 127,-167.5 127,-167.5 127,-173.5 121,-179.5 115,-179.5\"/>\r\n",
       "<text text-anchor=\"middle\" x=\"63.5\" y=\"-164.3\" font-family=\"Helvetica,sans-Serif\" font-size=\"14.00\">gini = 0.0</text>\r\n",
       "<text text-anchor=\"middle\" x=\"63.5\" y=\"-149.3\" font-family=\"Helvetica,sans-Serif\" font-size=\"14.00\">samples = 47</text>\r\n",
       "<text text-anchor=\"middle\" x=\"63.5\" y=\"-134.3\" font-family=\"Helvetica,sans-Serif\" font-size=\"14.00\">value = [0, 47, 0]</text>\r\n",
       "<text text-anchor=\"middle\" x=\"63.5\" y=\"-119.3\" font-family=\"Helvetica,sans-Serif\" font-size=\"14.00\">class = versicolor</text>\r\n",
       "</g>\r\n",
       "<!-- 4&#45;&gt;5 -->\r\n",
       "<g id=\"edge5\" class=\"edge\"><title>4&#45;&gt;5</title>\r\n",
       "<path fill=\"none\" stroke=\"black\" d=\"M146.438,-222.907C133.622,-211.101 119.637,-198.217 106.864,-186.45\"/>\r\n",
       "<polygon fill=\"black\" stroke=\"black\" points=\"109.228,-183.868 99.5017,-179.667 104.485,-189.017 109.228,-183.868\"/>\r\n",
       "</g>\r\n",
       "<!-- 6 -->\r\n",
       "<g id=\"node7\" class=\"node\"><title>6</title>\r\n",
       "<path fill=\"#8139e5\" stroke=\"black\" d=\"M249.5,-179.5C249.5,-179.5 157.5,-179.5 157.5,-179.5 151.5,-179.5 145.5,-173.5 145.5,-167.5 145.5,-167.5 145.5,-123.5 145.5,-123.5 145.5,-117.5 151.5,-111.5 157.5,-111.5 157.5,-111.5 249.5,-111.5 249.5,-111.5 255.5,-111.5 261.5,-117.5 261.5,-123.5 261.5,-123.5 261.5,-167.5 261.5,-167.5 261.5,-173.5 255.5,-179.5 249.5,-179.5\"/>\r\n",
       "<text text-anchor=\"middle\" x=\"203.5\" y=\"-164.3\" font-family=\"Helvetica,sans-Serif\" font-size=\"14.00\">gini = 0.0</text>\r\n",
       "<text text-anchor=\"middle\" x=\"203.5\" y=\"-149.3\" font-family=\"Helvetica,sans-Serif\" font-size=\"14.00\">samples = 1</text>\r\n",
       "<text text-anchor=\"middle\" x=\"203.5\" y=\"-134.3\" font-family=\"Helvetica,sans-Serif\" font-size=\"14.00\">value = [0, 0, 1]</text>\r\n",
       "<text text-anchor=\"middle\" x=\"203.5\" y=\"-119.3\" font-family=\"Helvetica,sans-Serif\" font-size=\"14.00\">class = virginica</text>\r\n",
       "</g>\r\n",
       "<!-- 4&#45;&gt;6 -->\r\n",
       "<g id=\"edge6\" class=\"edge\"><title>4&#45;&gt;6</title>\r\n",
       "<path fill=\"none\" stroke=\"black\" d=\"M195.01,-222.907C196.2,-212.204 197.487,-200.615 198.692,-189.776\"/>\r\n",
       "<polygon fill=\"black\" stroke=\"black\" points=\"202.189,-189.992 199.815,-179.667 195.232,-189.219 202.189,-189.992\"/>\r\n",
       "</g>\r\n",
       "<!-- 8 -->\r\n",
       "<g id=\"node9\" class=\"node\"><title>8</title>\r\n",
       "<path fill=\"#8139e5\" stroke=\"black\" d=\"M396.5,-179.5C396.5,-179.5 304.5,-179.5 304.5,-179.5 298.5,-179.5 292.5,-173.5 292.5,-167.5 292.5,-167.5 292.5,-123.5 292.5,-123.5 292.5,-117.5 298.5,-111.5 304.5,-111.5 304.5,-111.5 396.5,-111.5 396.5,-111.5 402.5,-111.5 408.5,-117.5 408.5,-123.5 408.5,-123.5 408.5,-167.5 408.5,-167.5 408.5,-173.5 402.5,-179.5 396.5,-179.5\"/>\r\n",
       "<text text-anchor=\"middle\" x=\"350.5\" y=\"-164.3\" font-family=\"Helvetica,sans-Serif\" font-size=\"14.00\">gini = 0.0</text>\r\n",
       "<text text-anchor=\"middle\" x=\"350.5\" y=\"-149.3\" font-family=\"Helvetica,sans-Serif\" font-size=\"14.00\">samples = 3</text>\r\n",
       "<text text-anchor=\"middle\" x=\"350.5\" y=\"-134.3\" font-family=\"Helvetica,sans-Serif\" font-size=\"14.00\">value = [0, 0, 3]</text>\r\n",
       "<text text-anchor=\"middle\" x=\"350.5\" y=\"-119.3\" font-family=\"Helvetica,sans-Serif\" font-size=\"14.00\">class = virginica</text>\r\n",
       "</g>\r\n",
       "<!-- 7&#45;&gt;8 -->\r\n",
       "<g id=\"edge8\" class=\"edge\"><title>7&#45;&gt;8</title>\r\n",
       "<path fill=\"none\" stroke=\"black\" d=\"M367.479,-222.907C365.076,-212.094 362.473,-200.376 360.042,-189.441\"/>\r\n",
       "<polygon fill=\"black\" stroke=\"black\" points=\"363.456,-188.67 357.87,-179.667 356.623,-190.188 363.456,-188.67\"/>\r\n",
       "</g>\r\n",
       "<!-- 9 -->\r\n",
       "<g id=\"node10\" class=\"node\"><title>9</title>\r\n",
       "<path fill=\"#39e581\" fill-opacity=\"0.498039\" stroke=\"black\" d=\"M588.5,-187C588.5,-187 438.5,-187 438.5,-187 432.5,-187 426.5,-181 426.5,-175 426.5,-175 426.5,-116 426.5,-116 426.5,-110 432.5,-104 438.5,-104 438.5,-104 588.5,-104 588.5,-104 594.5,-104 600.5,-110 600.5,-116 600.5,-116 600.5,-175 600.5,-175 600.5,-181 594.5,-187 588.5,-187\"/>\r\n",
       "<text text-anchor=\"middle\" x=\"513.5\" y=\"-171.8\" font-family=\"Helvetica,sans-Serif\" font-size=\"14.00\">petal length (cm) &lt;= 5.45</text>\r\n",
       "<text text-anchor=\"middle\" x=\"513.5\" y=\"-156.8\" font-family=\"Helvetica,sans-Serif\" font-size=\"14.00\">gini = 0.444</text>\r\n",
       "<text text-anchor=\"middle\" x=\"513.5\" y=\"-141.8\" font-family=\"Helvetica,sans-Serif\" font-size=\"14.00\">samples = 3</text>\r\n",
       "<text text-anchor=\"middle\" x=\"513.5\" y=\"-126.8\" font-family=\"Helvetica,sans-Serif\" font-size=\"14.00\">value = [0, 2, 1]</text>\r\n",
       "<text text-anchor=\"middle\" x=\"513.5\" y=\"-111.8\" font-family=\"Helvetica,sans-Serif\" font-size=\"14.00\">class = versicolor</text>\r\n",
       "</g>\r\n",
       "<!-- 7&#45;&gt;9 -->\r\n",
       "<g id=\"edge9\" class=\"edge\"><title>7&#45;&gt;9</title>\r\n",
       "<path fill=\"none\" stroke=\"black\" d=\"M424.031,-222.907C435.083,-213.469 446.94,-203.343 458.291,-193.649\"/>\r\n",
       "<polygon fill=\"black\" stroke=\"black\" points=\"460.721,-196.177 466.053,-187.021 456.175,-190.854 460.721,-196.177\"/>\r\n",
       "</g>\r\n",
       "<!-- 10 -->\r\n",
       "<g id=\"node11\" class=\"node\"><title>10</title>\r\n",
       "<path fill=\"#39e581\" stroke=\"black\" d=\"M495,-68C495,-68 392,-68 392,-68 386,-68 380,-62 380,-56 380,-56 380,-12 380,-12 380,-6 386,-0 392,-0 392,-0 495,-0 495,-0 501,-0 507,-6 507,-12 507,-12 507,-56 507,-56 507,-62 501,-68 495,-68\"/>\r\n",
       "<text text-anchor=\"middle\" x=\"443.5\" y=\"-52.8\" font-family=\"Helvetica,sans-Serif\" font-size=\"14.00\">gini = 0.0</text>\r\n",
       "<text text-anchor=\"middle\" x=\"443.5\" y=\"-37.8\" font-family=\"Helvetica,sans-Serif\" font-size=\"14.00\">samples = 2</text>\r\n",
       "<text text-anchor=\"middle\" x=\"443.5\" y=\"-22.8\" font-family=\"Helvetica,sans-Serif\" font-size=\"14.00\">value = [0, 2, 0]</text>\r\n",
       "<text text-anchor=\"middle\" x=\"443.5\" y=\"-7.8\" font-family=\"Helvetica,sans-Serif\" font-size=\"14.00\">class = versicolor</text>\r\n",
       "</g>\r\n",
       "<!-- 9&#45;&gt;10 -->\r\n",
       "<g id=\"edge10\" class=\"edge\"><title>9&#45;&gt;10</title>\r\n",
       "<path fill=\"none\" stroke=\"black\" d=\"M487.435,-103.726C481.837,-94.9703 475.913,-85.7032 470.289,-76.9051\"/>\r\n",
       "<polygon fill=\"black\" stroke=\"black\" points=\"473.123,-74.8399 464.787,-68.2996 467.225,-78.6103 473.123,-74.8399\"/>\r\n",
       "</g>\r\n",
       "<!-- 11 -->\r\n",
       "<g id=\"node12\" class=\"node\"><title>11</title>\r\n",
       "<path fill=\"#8139e5\" stroke=\"black\" d=\"M629.5,-68C629.5,-68 537.5,-68 537.5,-68 531.5,-68 525.5,-62 525.5,-56 525.5,-56 525.5,-12 525.5,-12 525.5,-6 531.5,-0 537.5,-0 537.5,-0 629.5,-0 629.5,-0 635.5,-0 641.5,-6 641.5,-12 641.5,-12 641.5,-56 641.5,-56 641.5,-62 635.5,-68 629.5,-68\"/>\r\n",
       "<text text-anchor=\"middle\" x=\"583.5\" y=\"-52.8\" font-family=\"Helvetica,sans-Serif\" font-size=\"14.00\">gini = 0.0</text>\r\n",
       "<text text-anchor=\"middle\" x=\"583.5\" y=\"-37.8\" font-family=\"Helvetica,sans-Serif\" font-size=\"14.00\">samples = 1</text>\r\n",
       "<text text-anchor=\"middle\" x=\"583.5\" y=\"-22.8\" font-family=\"Helvetica,sans-Serif\" font-size=\"14.00\">value = [0, 0, 1]</text>\r\n",
       "<text text-anchor=\"middle\" x=\"583.5\" y=\"-7.8\" font-family=\"Helvetica,sans-Serif\" font-size=\"14.00\">class = virginica</text>\r\n",
       "</g>\r\n",
       "<!-- 9&#45;&gt;11 -->\r\n",
       "<g id=\"edge11\" class=\"edge\"><title>9&#45;&gt;11</title>\r\n",
       "<path fill=\"none\" stroke=\"black\" d=\"M539.565,-103.726C545.163,-94.9703 551.087,-85.7032 556.711,-76.9051\"/>\r\n",
       "<polygon fill=\"black\" stroke=\"black\" points=\"559.775,-78.6103 562.213,-68.2996 553.877,-74.8399 559.775,-78.6103\"/>\r\n",
       "</g>\r\n",
       "<!-- 13 -->\r\n",
       "<g id=\"node14\" class=\"node\"><title>13</title>\r\n",
       "<path fill=\"#8139e5\" fill-opacity=\"0.498039\" stroke=\"black\" d=\"M598.5,-298.5C598.5,-298.5 506.5,-298.5 506.5,-298.5 500.5,-298.5 494.5,-292.5 494.5,-286.5 494.5,-286.5 494.5,-242.5 494.5,-242.5 494.5,-236.5 500.5,-230.5 506.5,-230.5 506.5,-230.5 598.5,-230.5 598.5,-230.5 604.5,-230.5 610.5,-236.5 610.5,-242.5 610.5,-242.5 610.5,-286.5 610.5,-286.5 610.5,-292.5 604.5,-298.5 598.5,-298.5\"/>\r\n",
       "<text text-anchor=\"middle\" x=\"552.5\" y=\"-283.3\" font-family=\"Helvetica,sans-Serif\" font-size=\"14.00\">gini = 0.444</text>\r\n",
       "<text text-anchor=\"middle\" x=\"552.5\" y=\"-268.3\" font-family=\"Helvetica,sans-Serif\" font-size=\"14.00\">samples = 3</text>\r\n",
       "<text text-anchor=\"middle\" x=\"552.5\" y=\"-253.3\" font-family=\"Helvetica,sans-Serif\" font-size=\"14.00\">value = [0, 1, 2]</text>\r\n",
       "<text text-anchor=\"middle\" x=\"552.5\" y=\"-238.3\" font-family=\"Helvetica,sans-Serif\" font-size=\"14.00\">class = virginica</text>\r\n",
       "</g>\r\n",
       "<!-- 12&#45;&gt;13 -->\r\n",
       "<g id=\"edge13\" class=\"edge\"><title>12&#45;&gt;13</title>\r\n",
       "<path fill=\"none\" stroke=\"black\" d=\"M557.724,-341.907C556.993,-331.204 556.2,-319.615 555.459,-308.776\"/>\r\n",
       "<polygon fill=\"black\" stroke=\"black\" points=\"558.942,-308.405 554.768,-298.667 551.958,-308.882 558.942,-308.405\"/>\r\n",
       "</g>\r\n",
       "<!-- 14 -->\r\n",
       "<g id=\"node15\" class=\"node\"><title>14</title>\r\n",
       "<path fill=\"#8139e5\" stroke=\"black\" d=\"M738,-298.5C738,-298.5 641,-298.5 641,-298.5 635,-298.5 629,-292.5 629,-286.5 629,-286.5 629,-242.5 629,-242.5 629,-236.5 635,-230.5 641,-230.5 641,-230.5 738,-230.5 738,-230.5 744,-230.5 750,-236.5 750,-242.5 750,-242.5 750,-286.5 750,-286.5 750,-292.5 744,-298.5 738,-298.5\"/>\r\n",
       "<text text-anchor=\"middle\" x=\"689.5\" y=\"-283.3\" font-family=\"Helvetica,sans-Serif\" font-size=\"14.00\">gini = 0.0</text>\r\n",
       "<text text-anchor=\"middle\" x=\"689.5\" y=\"-268.3\" font-family=\"Helvetica,sans-Serif\" font-size=\"14.00\">samples = 43</text>\r\n",
       "<text text-anchor=\"middle\" x=\"689.5\" y=\"-253.3\" font-family=\"Helvetica,sans-Serif\" font-size=\"14.00\">value = [0, 0, 43]</text>\r\n",
       "<text text-anchor=\"middle\" x=\"689.5\" y=\"-238.3\" font-family=\"Helvetica,sans-Serif\" font-size=\"14.00\">class = virginica</text>\r\n",
       "</g>\r\n",
       "<!-- 12&#45;&gt;14 -->\r\n",
       "<g id=\"edge14\" class=\"edge\"><title>12&#45;&gt;14</title>\r\n",
       "<path fill=\"none\" stroke=\"black\" d=\"M605.256,-341.907C618.274,-330.101 632.479,-317.217 645.453,-305.45\"/>\r\n",
       "<polygon fill=\"black\" stroke=\"black\" points=\"647.875,-307.978 652.931,-298.667 643.173,-302.793 647.875,-307.978\"/>\r\n",
       "</g>\r\n",
       "</g>\r\n",
       "</svg>\r\n"
      ],
      "text/plain": [
       "<graphviz.files.Source at 0x1f07c7f4828>"
      ]
     },
     "execution_count": 23,
     "metadata": {},
     "output_type": "execute_result"
    }
   ],
   "source": [
    "graph"
   ]
  },
  {
   "cell_type": "markdown",
   "metadata": {},
   "source": [
    "## Visualise the Decision Boundary"
   ]
  },
  {
   "cell_type": "code",
   "execution_count": 24,
   "metadata": {
    "collapsed": true
   },
   "outputs": [],
   "source": [
    "import numpy as np\n",
    "import seaborn as sns\n",
    "sns.set_style('whitegrid')\n",
    "import matplotlib.pyplot as plt\n",
    "%matplotlib inline"
   ]
  },
  {
   "cell_type": "code",
   "execution_count": 25,
   "metadata": {},
   "outputs": [
    {
     "data": {
      "text/html": [
       "<div>\n",
       "<style>\n",
       "    .dataframe thead tr:only-child th {\n",
       "        text-align: right;\n",
       "    }\n",
       "\n",
       "    .dataframe thead th {\n",
       "        text-align: left;\n",
       "    }\n",
       "\n",
       "    .dataframe tbody tr th {\n",
       "        vertical-align: top;\n",
       "    }\n",
       "</style>\n",
       "<table border=\"1\" class=\"dataframe\">\n",
       "  <thead>\n",
       "    <tr style=\"text-align: right;\">\n",
       "      <th></th>\n",
       "      <th>sepal_length</th>\n",
       "      <th>sepal_width</th>\n",
       "      <th>petal_length</th>\n",
       "      <th>petal_width</th>\n",
       "      <th>species</th>\n",
       "    </tr>\n",
       "  </thead>\n",
       "  <tbody>\n",
       "    <tr>\n",
       "      <th>0</th>\n",
       "      <td>5.1</td>\n",
       "      <td>3.5</td>\n",
       "      <td>1.4</td>\n",
       "      <td>0.2</td>\n",
       "      <td>setosa</td>\n",
       "    </tr>\n",
       "    <tr>\n",
       "      <th>1</th>\n",
       "      <td>4.9</td>\n",
       "      <td>3.0</td>\n",
       "      <td>1.4</td>\n",
       "      <td>0.2</td>\n",
       "      <td>setosa</td>\n",
       "    </tr>\n",
       "    <tr>\n",
       "      <th>2</th>\n",
       "      <td>4.7</td>\n",
       "      <td>3.2</td>\n",
       "      <td>1.3</td>\n",
       "      <td>0.2</td>\n",
       "      <td>setosa</td>\n",
       "    </tr>\n",
       "    <tr>\n",
       "      <th>3</th>\n",
       "      <td>4.6</td>\n",
       "      <td>3.1</td>\n",
       "      <td>1.5</td>\n",
       "      <td>0.2</td>\n",
       "      <td>setosa</td>\n",
       "    </tr>\n",
       "    <tr>\n",
       "      <th>4</th>\n",
       "      <td>5.0</td>\n",
       "      <td>3.6</td>\n",
       "      <td>1.4</td>\n",
       "      <td>0.2</td>\n",
       "      <td>setosa</td>\n",
       "    </tr>\n",
       "  </tbody>\n",
       "</table>\n",
       "</div>"
      ],
      "text/plain": [
       "   sepal_length  sepal_width  petal_length  petal_width species\n",
       "0           5.1          3.5           1.4          0.2  setosa\n",
       "1           4.9          3.0           1.4          0.2  setosa\n",
       "2           4.7          3.2           1.3          0.2  setosa\n",
       "3           4.6          3.1           1.5          0.2  setosa\n",
       "4           5.0          3.6           1.4          0.2  setosa"
      ]
     },
     "execution_count": 25,
     "metadata": {},
     "output_type": "execute_result"
    }
   ],
   "source": [
    "df = sns.load_dataset('iris')\n",
    "df.head()"
   ]
  },
  {
   "cell_type": "code",
   "execution_count": 26,
   "metadata": {
    "collapsed": true
   },
   "outputs": [],
   "source": [
    "col = ['petal_length', 'petal_width']\n",
    "X = df.loc[:, col]"
   ]
  },
  {
   "cell_type": "code",
   "execution_count": 27,
   "metadata": {
    "collapsed": true
   },
   "outputs": [],
   "source": [
    "species_to_num = {'setosa': 0,\n",
    "                  'versicolor': 1,\n",
    "                  'virginica': 2}\n",
    "df['tmp'] = df['species'].map(species_to_num)\n",
    "y = df['tmp']"
   ]
  },
  {
   "cell_type": "code",
   "execution_count": 28,
   "metadata": {
    "collapsed": true
   },
   "outputs": [],
   "source": [
    "clf = tree.DecisionTreeClassifier()\n",
    "clf = clf.fit(X, y)"
   ]
  },
  {
   "cell_type": "code",
   "execution_count": 29,
   "metadata": {
    "collapsed": true
   },
   "outputs": [],
   "source": [
    "Xv = X.values.reshape(-1,1)\n",
    "h = 0.02\n",
    "x_min, x_max = Xv.min(), Xv.max() + 1\n",
    "y_min, y_max = y.min(), y.max() + 1\n",
    "xx, yy = np.meshgrid(np.arange(x_min, x_max, h),\n",
    "                     np.arange(y_min, y_max, h))"
   ]
  },
  {
   "cell_type": "code",
   "execution_count": 30,
   "metadata": {},
   "outputs": [
    {
     "data": {
      "image/png": "[encoded data removed]",
      "text/plain": [
       "<matplotlib.figure.Figure at 0x1f00028d208>"
      ]
     },
     "metadata": {},
     "output_type": "display_data"
    }
   ],
   "source": [
    "z = clf.predict(np.c_[xx.ravel(), yy.ravel()])\n",
    "z = z.reshape(xx.shape)\n",
    "fig = plt.figure(figsize=(16,10))\n",
    "ax = plt.contourf(xx, yy, z, cmap = 'afmhot', alpha=0.3);\n",
    "plt.scatter(X.values[:, 0], X.values[:, 1], c=y, s=80, \n",
    "            alpha=0.9, edgecolors='g');"
   ]
  },
  {
   "cell_type": "markdown",
   "metadata": {},
   "source": [
    "***\n",
    "\n",
    "# Decision Tree Learning\n",
    "\n",
    "* [ID3](https://en.wikipedia.org/wiki/ID3_algorithm) (Iterative Dichotomiser 3)\n",
    "* [C4.5](https://en.wikipedia.org/wiki/C4.5_algorithm) (successor of ID3)\n",
    "* CART (Classification And Regression Tree)\n",
    "* [CHAID](http://www.statisticssolutions.com/non-parametric-analysis-chaid/) (Chi-squared Automatic Interaction Detector). by [Gordon Kass](https://en.wikipedia.org/wiki/Chi-square_automatic_interaction_detection). "
   ]
  },
  {
   "cell_type": "markdown",
   "metadata": {},
   "source": [
    "## Tree algorithms: ID3, C4.5, C5.0 and CART\n",
    "\n",
    "\n",
    "* ID3 (Iterative Dichotomiser 3) was developed in 1986 by Ross Quinlan. The algorithm creates a multiway tree, finding for each node (i.e. in a greedy manner) the categorical feature that will yield the largest information gain for categorical targets. Trees are grown to their maximum size and then a pruning step is usually applied to improve the ability of the tree to generalise to unseen data.\n",
    "\n",
    "\n",
    "* C4.5 is the successor to ID3 and removed the restriction that features must be categorical by dynamically defining a discrete attribute (based on numerical variables) that partitions the continuous attribute value into a discrete set of intervals. C4.5 converts the trained trees (i.e. the output of the ID3 algorithm) into sets of if-then rules. These accuracy of each rule is then evaluated to determine the order in which they should be applied. Pruning is done by removing a rule’s precondition if the accuracy of the rule improves without it.\n",
    "\n",
    "\n",
    "* C5.0 is Quinlan’s latest version release under a proprietary license. It uses less memory and builds smaller rulesets than C4.5 while being more accurate.\n",
    "\n",
    "\n",
    "* CART (Classification and Regression Trees) is very similar to C4.5, but it differs in that it supports numerical target variables (regression) and does not compute rule sets. CART constructs binary trees using the feature and threshold that yield the largest information gain at each node.\n",
    "\n",
    "\n",
    "* CHAID (Chi-squared Automatic Interaction Detector). by Gordon Kass. Performs multi-level splits when computing classification trees. Non-parametric. Does not require the data to be normally distributed. \n",
    "\n",
    "scikit-learn uses an optimised version of the CART algorithm."
   ]
  },
  {
   "cell_type": "markdown",
   "metadata": {},
   "source": [
    "# Gini Impurity\n",
    "\n",
    "scikit-learn default\n",
    "\n",
    "[Gini Impurity](https://en.wikipedia.org/wiki/Decision_tree_learning#Gini_impurity)\n",
    "\n",
    "A measure of purity / variability of categorical data\n",
    "\n",
    "As a side note on the difference between [Gini Impurity and Gini Coefficient](https://datascience.stackexchange.com/questions/1095/gini-coefficient-vs-gini-impurity-decision-trees)\n",
    "\n",
    "* No, despite their names they are not equivalent or even that similar.\n",
    "* **Gini impurity** is a measure of misclassification, which applies in a multiclass classifier context.\n",
    "* **Gini coefficient** applies to binary classification and requires a classifier that can in some way rank examples according to the likelihood of being in a positive class.\n",
    "* Both could be applied in some cases, but they are different measures for different things. Impurity is what is commonly used in decision trees.\n",
    "\n",
    "\n",
    "\n",
    "\n",
    "Developed by [Corrado Gini](https://en.wikipedia.org/wiki/Corrado_Gini) in 1912\n",
    "\n",
    "Key Points:\n",
    "* A pure node (homogeneous contents or samples with the same class) will have a Gini coefficient of zero\n",
    "* As the variation increases (heterogeneneous classes or increase diversity), Gini coefficient increases and approaches 1.\n",
    "\n",
    "$$Gini=1-\\sum^r_j p^2_j$$\n",
    "\n",
    "$p$ is the probability (often based on the frequency table)\n",
    "\n"
   ]
  },
  {
   "cell_type": "markdown",
   "metadata": {},
   "source": [
    "<img src='img\\gini_imp.png'>"
   ]
  },
  {
   "cell_type": "markdown",
   "metadata": {
    "collapsed": true
   },
   "source": [
    "# Entropy\n",
    "\n",
    "[Wikipedia](https://en.wikipedia.org/wiki/Entropy_(information_theory)\n",
    "\n",
    "The entropy can explicitly be written as\n",
    "\n",
    "$${\\displaystyle \\mathrm {H} (X)=\\sum _{i=1}^{n}{\\mathrm {P} (x_{i})\\,\\mathrm {I} (x_{i})}=-\\sum _{i=1}^{n}{\\mathrm {P} (x_{i})\\log _{b}\\mathrm {P} (x_{i})},}$$\n",
    "\n",
    "where `b` is the base of the logarithm used. Common values of `b` are 2, Euler's number `e`, and 10\n",
    "\n",
    "\n"
   ]
  },
  {
   "cell_type": "markdown",
   "metadata": {
    "collapsed": true
   },
   "source": [
    "# Which should I use?\n",
    "\n",
    "[Sebastian Raschka](https://sebastianraschka.com/faq/docs/decision-tree-binary.html)\n",
    "\n",
    "* They tend to generate similar tree\n",
    "* Gini tends to be faster to compute"
   ]
  },
  {
   "cell_type": "markdown",
   "metadata": {
    "collapsed": true
   },
   "source": [
    "***"
   ]
  },
  {
   "cell_type": "code",
   "execution_count": 31,
   "metadata": {
    "collapsed": true
   },
   "outputs": [],
   "source": [
    "def gini(p):\n",
    "    return (p)*(1 - (p)) + (1 - p)*(1 - (1-p))\n",
    "def entropy(p):\n",
    "    return - p*np.log2(p) - (1 - p)*np.log2((1 - p))\n",
    "def error(p):\n",
    "    return 1 - np.max([p, 1 - p])"
   ]
  },
  {
   "cell_type": "code",
   "execution_count": 32,
   "metadata": {
    "collapsed": true
   },
   "outputs": [],
   "source": [
    "x = np.arange(0.0, 1.0, 0.01)\n",
    "\n",
    "ent = [entropy(p) if p != 0 else None for p in x]\n",
    "\n",
    "sc_ent = [e*0.5 if e else None for e in ent]\n",
    "err = [error(i) for i in x]"
   ]
  },
  {
   "cell_type": "code",
   "execution_count": 33,
   "metadata": {},
   "outputs": [
    {
     "data": {
      "image/png": "[encoded data removed]",
      "text/plain": [
       "<matplotlib.figure.Figure at 0x1f0014a66a0>"
      ]
     },
     "metadata": {},
     "output_type": "display_data"
    }
   ],
   "source": [
    "fig = plt.figure(figsize=(10,8))\n",
    "ax = plt.subplot(111)\n",
    "for i, lab, ls, c, in zip([ent, sc_ent, gini(x), err], \n",
    "                   ['Entropy', 'Entropy (scaled)', \n",
    "                   'Gini Impurity', \n",
    "                   'Misclassification Error'],\n",
    "                   ['-', '-', '--', '-.'],\n",
    "                   ['black', 'lightgray',\n",
    "                      'red', 'green', 'cyan']):\n",
    "     line = ax.plot(x, i, label=lab, \n",
    "                    linestyle=ls, lw=2, color=c)\n",
    "ax.legend(loc='upper center', bbox_to_anchor=(0.5, 1.15),\n",
    "           ncol=3, fancybox=True, shadow=False)\n",
    "ax.axhline(y=0.5, linewidth=1, color='k', linestyle='--')\n",
    "ax.axhline(y=1.0, linewidth=1, color='k', linestyle='--')\n",
    "plt.ylim([0, 1.1])\n",
    "plt.xlabel('p(i=1)')\n",
    "plt.ylabel('Impurity Index')\n",
    "plt.show()"
   ]
  },
  {
   "cell_type": "markdown",
   "metadata": {
    "collapsed": true
   },
   "source": [
    "# Information Gain\n",
    "\n",
    "* Expected reduction in entropy caused by splitting \n",
    "\n",
    "* Keep splitting until you obtain a as close to homogeneous class as possible\n",
    "\n"
   ]
  },
  {
   "cell_type": "markdown",
   "metadata": {
    "collapsed": true
   },
   "source": [
    "***"
   ]
  },
  {
   "cell_type": "markdown",
   "metadata": {},
   "source": [
    "# Regression"
   ]
  },
  {
   "cell_type": "code",
   "execution_count": 25,
   "metadata": {
    "collapsed": true
   },
   "outputs": [],
   "source": [
    "from sklearn import tree"
   ]
  },
  {
   "cell_type": "code",
   "execution_count": 26,
   "metadata": {
    "collapsed": true
   },
   "outputs": [],
   "source": [
    "X = [[0, 0], [3,3]]\n",
    "y = [0.75, 3]"
   ]
  },
  {
   "cell_type": "code",
   "execution_count": 27,
   "metadata": {
    "collapsed": true
   },
   "outputs": [],
   "source": [
    "tree_reg = tree.DecisionTreeRegressor(random_state=42)"
   ]
  },
  {
   "cell_type": "code",
   "execution_count": 28,
   "metadata": {
    "collapsed": true
   },
   "outputs": [],
   "source": [
    "tree_reg = tree_reg.fit(X, y)"
   ]
  },
  {
   "cell_type": "code",
   "execution_count": 29,
   "metadata": {},
   "outputs": [
    {
     "data": {
      "text/plain": [
       "array([ 0.75])"
      ]
     },
     "execution_count": 29,
     "metadata": {},
     "output_type": "execute_result"
    }
   ],
   "source": [
    "tree_reg.predict([[1.5, 1.5]])"
   ]
  },
  {
   "cell_type": "code",
   "execution_count": 36,
   "metadata": {},
   "outputs": [
    {
     "data": {
      "image/png": "[encoded data removed]",
      "text/plain": [
       "<matplotlib.figure.Figure at 0x7f6161b7ac18>"
      ]
     },
     "metadata": {},
     "output_type": "display_data"
    }
   ],
   "source": [
    "# Import the necessary modules and libraries\n",
    "import numpy as np\n",
    "from sklearn.tree import DecisionTreeRegressor\n",
    "import matplotlib.pyplot as plt\n",
    "\n",
    "# Create a random dataset\n",
    "rng = np.random.RandomState(1)\n",
    "X = np.sort(5 * rng.rand(80, 1), axis=0)\n",
    "y = np.sin(X).ravel()\n",
    "y[::5] += 3 * (0.5 - rng.rand(16))\n",
    "\n",
    "# Fit regression model\n",
    "regr_1 = DecisionTreeRegressor(max_depth=2)\n",
    "regr_2 = DecisionTreeRegressor(max_depth=5)\n",
    "regr_1.fit(X, y)\n",
    "regr_2.fit(X, y)\n",
    "\n",
    "# Predict\n",
    "X_test = np.arange(0.0, 5.0, 0.01)[:, np.newaxis]\n",
    "y_1 = regr_1.predict(X_test)\n",
    "y_2 = regr_2.predict(X_test)\n",
    "\n",
    "# Plot the results\n",
    "plt.figure(figsize=(10,8))\n",
    "plt.scatter(X, y, s=20, edgecolor=\"black\",\n",
    "            c=\"darkorange\", label=\"data\")\n",
    "plt.plot(X_test, y_1, color=\"cornflowerblue\",\n",
    "         label=\"max_depth=2\", linewidth=2)\n",
    "plt.plot(X_test, y_2, color=\"yellowgreen\", label=\"max_depth=5\", linewidth=2)\n",
    "plt.xlabel(\"data\")\n",
    "plt.ylabel(\"target\")\n",
    "plt.title(\"Decision Tree Regression\")\n",
    "plt.legend()\n",
    "plt.show()"
   ]
  },
  {
   "cell_type": "code",
   "execution_count": 31,
   "metadata": {},
   "outputs": [
    {
     "data": {
      "image/svg+xml": [
       "<?xml version=\"1.0\" encoding=\"UTF-8\" standalone=\"no\"?>\n",
       "<!DOCTYPE svg PUBLIC \"-//W3C//DTD SVG 1.1//EN\"\n",
       " \"http://www.w3.org/Graphics/SVG/1.1/DTD/svg11.dtd\">\n",
       "<!-- Generated by graphviz version 2.38.0 (20140413.2041)\n",
       " -->\n",
       "<!-- Title: Tree Pages: 1 -->\n",
       "<svg width=\"442pt\" height=\"269pt\"\n",
       " viewBox=\"0.00 0.00 441.50 269.00\" xmlns=\"http://www.w3.org/2000/svg\" xmlns:xlink=\"http://www.w3.org/1999/xlink\">\n",
       "<g id=\"graph0\" class=\"graph\" transform=\"scale(1 1) rotate(0) translate(4 265)\">\n",
       "<title>Tree</title>\n",
       "<polygon fill=\"white\" stroke=\"none\" points=\"-4,4 -4,-265 437.5,-265 437.5,4 -4,4\"/>\n",
       "<!-- 0 -->\n",
       "<g id=\"node1\" class=\"node\"><title>0</title>\n",
       "<polygon fill=\"#e58139\" fill-opacity=\"0.627451\" stroke=\"black\" points=\"260.5,-261 163.5,-261 163.5,-193 260.5,-193 260.5,-261\"/>\n",
       "<text text-anchor=\"middle\" x=\"212\" y=\"-245.8\" font-family=\"Times,serif\" font-size=\"14.00\">X[0] &lt;= 3.133</text>\n",
       "<text text-anchor=\"middle\" x=\"212\" y=\"-230.8\" font-family=\"Times,serif\" font-size=\"14.00\">mse = 0.547</text>\n",
       "<text text-anchor=\"middle\" x=\"212\" y=\"-215.8\" font-family=\"Times,serif\" font-size=\"14.00\">samples = 80</text>\n",
       "<text text-anchor=\"middle\" x=\"212\" y=\"-200.8\" font-family=\"Times,serif\" font-size=\"14.00\">value = 0.122</text>\n",
       "</g>\n",
       "<!-- 1 -->\n",
       "<g id=\"node2\" class=\"node\"><title>1</title>\n",
       "<polygon fill=\"#e58139\" fill-opacity=\"0.909804\" stroke=\"black\" points=\"203.5,-157 106.5,-157 106.5,-89 203.5,-89 203.5,-157\"/>\n",
       "<text text-anchor=\"middle\" x=\"155\" y=\"-141.8\" font-family=\"Times,serif\" font-size=\"14.00\">X[0] &lt;= 0.514</text>\n",
       "<text text-anchor=\"middle\" x=\"155\" y=\"-126.8\" font-family=\"Times,serif\" font-size=\"14.00\">mse = 0.231</text>\n",
       "<text text-anchor=\"middle\" x=\"155\" y=\"-111.8\" font-family=\"Times,serif\" font-size=\"14.00\">samples = 51</text>\n",
       "<text text-anchor=\"middle\" x=\"155\" y=\"-96.8\" font-family=\"Times,serif\" font-size=\"14.00\">value = 0.571</text>\n",
       "</g>\n",
       "<!-- 0&#45;&gt;1 -->\n",
       "<g id=\"edge1\" class=\"edge\"><title>0&#45;&gt;1</title>\n",
       "<path fill=\"none\" stroke=\"black\" d=\"M193.494,-192.884C188.715,-184.332 183.507,-175.013 178.511,-166.072\"/>\n",
       "<polygon fill=\"black\" stroke=\"black\" points=\"181.542,-164.321 173.608,-157.299 175.431,-167.736 181.542,-164.321\"/>\n",
       "<text text-anchor=\"middle\" x=\"166.8\" y=\"-177.655\" font-family=\"Times,serif\" font-size=\"14.00\">True</text>\n",
       "</g>\n",
       "<!-- 4 -->\n",
       "<g id=\"node5\" class=\"node\"><title>4</title>\n",
       "<polygon fill=\"#e58139\" fill-opacity=\"0.125490\" stroke=\"black\" points=\"318.5,-157 221.5,-157 221.5,-89 318.5,-89 318.5,-157\"/>\n",
       "<text text-anchor=\"middle\" x=\"270\" y=\"-141.8\" font-family=\"Times,serif\" font-size=\"14.00\">X[0] &lt;= 3.85</text>\n",
       "<text text-anchor=\"middle\" x=\"270\" y=\"-126.8\" font-family=\"Times,serif\" font-size=\"14.00\">mse = 0.124</text>\n",
       "<text text-anchor=\"middle\" x=\"270\" y=\"-111.8\" font-family=\"Times,serif\" font-size=\"14.00\">samples = 29</text>\n",
       "<text text-anchor=\"middle\" x=\"270\" y=\"-96.8\" font-family=\"Times,serif\" font-size=\"14.00\">value = &#45;0.667</text>\n",
       "</g>\n",
       "<!-- 0&#45;&gt;4 -->\n",
       "<g id=\"edge4\" class=\"edge\"><title>0&#45;&gt;4</title>\n",
       "<path fill=\"none\" stroke=\"black\" d=\"M230.831,-192.884C235.693,-184.332 240.992,-175.013 246.077,-166.072\"/>\n",
       "<polygon fill=\"black\" stroke=\"black\" points=\"249.165,-167.722 251.065,-157.299 243.079,-164.262 249.165,-167.722\"/>\n",
       "<text text-anchor=\"middle\" x=\"257.694\" y=\"-177.704\" font-family=\"Times,serif\" font-size=\"14.00\">False</text>\n",
       "</g>\n",
       "<!-- 2 -->\n",
       "<g id=\"node3\" class=\"node\"><title>2</title>\n",
       "<polygon fill=\"#e58139\" fill-opacity=\"0.580392\" stroke=\"black\" points=\"92,-53 0,-53 0,-0 92,-0 92,-53\"/>\n",
       "<text text-anchor=\"middle\" x=\"46\" y=\"-37.8\" font-family=\"Times,serif\" font-size=\"14.00\">mse = 0.192</text>\n",
       "<text text-anchor=\"middle\" x=\"46\" y=\"-22.8\" font-family=\"Times,serif\" font-size=\"14.00\">samples = 11</text>\n",
       "<text text-anchor=\"middle\" x=\"46\" y=\"-7.8\" font-family=\"Times,serif\" font-size=\"14.00\">value = 0.052</text>\n",
       "</g>\n",
       "<!-- 1&#45;&gt;2 -->\n",
       "<g id=\"edge2\" class=\"edge\"><title>1&#45;&gt;2</title>\n",
       "<path fill=\"none\" stroke=\"black\" d=\"M116.877,-88.9485C106.009,-79.526 94.1828,-69.2731 83.3605,-59.8906\"/>\n",
       "<polygon fill=\"black\" stroke=\"black\" points=\"85.5342,-57.1428 75.6857,-53.2367 80.9488,-62.4319 85.5342,-57.1428\"/>\n",
       "</g>\n",
       "<!-- 3 -->\n",
       "<g id=\"node4\" class=\"node\"><title>3</title>\n",
       "<polygon fill=\"#e58139\" stroke=\"black\" points=\"202,-53 110,-53 110,-0 202,-0 202,-53\"/>\n",
       "<text text-anchor=\"middle\" x=\"156\" y=\"-37.8\" font-family=\"Times,serif\" font-size=\"14.00\">mse = 0.148</text>\n",
       "<text text-anchor=\"middle\" x=\"156\" y=\"-22.8\" font-family=\"Times,serif\" font-size=\"14.00\">samples = 40</text>\n",
       "<text text-anchor=\"middle\" x=\"156\" y=\"-7.8\" font-family=\"Times,serif\" font-size=\"14.00\">value = 0.714</text>\n",
       "</g>\n",
       "<!-- 1&#45;&gt;3 -->\n",
       "<g id=\"edge3\" class=\"edge\"><title>1&#45;&gt;3</title>\n",
       "<path fill=\"none\" stroke=\"black\" d=\"M155.35,-88.9485C155.437,-80.7153 155.531,-71.848 155.619,-63.4814\"/>\n",
       "<polygon fill=\"black\" stroke=\"black\" points=\"159.122,-63.2732 155.728,-53.2367 152.122,-63.1991 159.122,-63.2732\"/>\n",
       "</g>\n",
       "<!-- 5 -->\n",
       "<g id=\"node6\" class=\"node\"><title>5</title>\n",
       "<polygon fill=\"#e58139\" fill-opacity=\"0.262745\" stroke=\"black\" points=\"318.5,-53 221.5,-53 221.5,-0 318.5,-0 318.5,-53\"/>\n",
       "<text text-anchor=\"middle\" x=\"270\" y=\"-37.8\" font-family=\"Times,serif\" font-size=\"14.00\">mse = 0.124</text>\n",
       "<text text-anchor=\"middle\" x=\"270\" y=\"-22.8\" font-family=\"Times,serif\" font-size=\"14.00\">samples = 14</text>\n",
       "<text text-anchor=\"middle\" x=\"270\" y=\"-7.8\" font-family=\"Times,serif\" font-size=\"14.00\">value = &#45;0.452</text>\n",
       "</g>\n",
       "<!-- 4&#45;&gt;5 -->\n",
       "<g id=\"edge5\" class=\"edge\"><title>4&#45;&gt;5</title>\n",
       "<path fill=\"none\" stroke=\"black\" d=\"M270,-88.9485C270,-80.7153 270,-71.848 270,-63.4814\"/>\n",
       "<polygon fill=\"black\" stroke=\"black\" points=\"273.5,-63.2367 270,-53.2367 266.5,-63.2367 273.5,-63.2367\"/>\n",
       "</g>\n",
       "<!-- 6 -->\n",
       "<g id=\"node7\" class=\"node\"><title>6</title>\n",
       "<polygon fill=\"none\" stroke=\"black\" points=\"433.5,-53 336.5,-53 336.5,-0 433.5,-0 433.5,-53\"/>\n",
       "<text text-anchor=\"middle\" x=\"385\" y=\"-37.8\" font-family=\"Times,serif\" font-size=\"14.00\">mse = 0.041</text>\n",
       "<text text-anchor=\"middle\" x=\"385\" y=\"-22.8\" font-family=\"Times,serif\" font-size=\"14.00\">samples = 15</text>\n",
       "<text text-anchor=\"middle\" x=\"385\" y=\"-7.8\" font-family=\"Times,serif\" font-size=\"14.00\">value = &#45;0.869</text>\n",
       "</g>\n",
       "<!-- 4&#45;&gt;6 -->\n",
       "<g id=\"edge6\" class=\"edge\"><title>4&#45;&gt;6</title>\n",
       "<path fill=\"none\" stroke=\"black\" d=\"M310.221,-88.9485C321.799,-79.4346 334.407,-69.074 345.915,-59.6175\"/>\n",
       "<polygon fill=\"black\" stroke=\"black\" points=\"348.176,-62.2897 353.68,-53.2367 343.732,-56.8814 348.176,-62.2897\"/>\n",
       "</g>\n",
       "</g>\n",
       "</svg>\n"
      ],
      "text/plain": [
       "<graphviz.files.Source at 0x7f6161ce20f0>"
      ]
     },
     "execution_count": 31,
     "metadata": {},
     "output_type": "execute_result"
    }
   ],
   "source": [
    "dot_data = tree.export_graphviz(regr_1, out_file=None,\n",
    "                                filled=True)\n",
    "graph = graphviz.Source(dot_data)\n",
    "graph"
   ]
  },
  {
   "cell_type": "code",
   "execution_count": 32,
   "metadata": {},
   "outputs": [
    {
     "data": {
      "image/svg+xml": [
       "<?xml version=\"1.0\" encoding=\"UTF-8\" standalone=\"no\"?>\n",
       "<!DOCTYPE svg PUBLIC \"-//W3C//DTD SVG 1.1//EN\"\n",
       " \"http://www.w3.org/Graphics/SVG/1.1/DTD/svg11.dtd\">\n",
       "<!-- Generated by graphviz version 2.38.0 (20140413.2041)\n",
       " -->\n",
       "<!-- Title: Tree Pages: 1 -->\n",
       "<svg width=\"2019pt\" height=\"581pt\"\n",
       " viewBox=\"0.00 0.00 2018.50 581.00\" xmlns=\"http://www.w3.org/2000/svg\" xmlns:xlink=\"http://www.w3.org/1999/xlink\">\n",
       "<g id=\"graph0\" class=\"graph\" transform=\"scale(1 1) rotate(0) translate(4 577)\">\n",
       "<title>Tree</title>\n",
       "<polygon fill=\"white\" stroke=\"none\" points=\"-4,4 -4,-577 2014.5,-577 2014.5,4 -4,4\"/>\n",
       "<!-- 0 -->\n",
       "<g id=\"node1\" class=\"node\"><title>0</title>\n",
       "<polygon fill=\"#e58139\" fill-opacity=\"0.588235\" stroke=\"black\" points=\"934.5,-573 837.5,-573 837.5,-505 934.5,-505 934.5,-573\"/>\n",
       "<text text-anchor=\"middle\" x=\"886\" y=\"-557.8\" font-family=\"Times,serif\" font-size=\"14.00\">X[0] &lt;= 3.133</text>\n",
       "<text text-anchor=\"middle\" x=\"886\" y=\"-542.8\" font-family=\"Times,serif\" font-size=\"14.00\">mse = 0.547</text>\n",
       "<text text-anchor=\"middle\" x=\"886\" y=\"-527.8\" font-family=\"Times,serif\" font-size=\"14.00\">samples = 80</text>\n",
       "<text text-anchor=\"middle\" x=\"886\" y=\"-512.8\" font-family=\"Times,serif\" font-size=\"14.00\">value = 0.122</text>\n",
       "</g>\n",
       "<!-- 1 -->\n",
       "<g id=\"node2\" class=\"node\"><title>1</title>\n",
       "<polygon fill=\"#e58139\" fill-opacity=\"0.737255\" stroke=\"black\" points=\"604.5,-469 507.5,-469 507.5,-401 604.5,-401 604.5,-469\"/>\n",
       "<text text-anchor=\"middle\" x=\"556\" y=\"-453.8\" font-family=\"Times,serif\" font-size=\"14.00\">X[0] &lt;= 0.514</text>\n",
       "<text text-anchor=\"middle\" x=\"556\" y=\"-438.8\" font-family=\"Times,serif\" font-size=\"14.00\">mse = 0.231</text>\n",
       "<text text-anchor=\"middle\" x=\"556\" y=\"-423.8\" font-family=\"Times,serif\" font-size=\"14.00\">samples = 51</text>\n",
       "<text text-anchor=\"middle\" x=\"556\" y=\"-408.8\" font-family=\"Times,serif\" font-size=\"14.00\">value = 0.571</text>\n",
       "</g>\n",
       "<!-- 0&#45;&gt;1 -->\n",
       "<g id=\"edge1\" class=\"edge\"><title>0&#45;&gt;1</title>\n",
       "<path fill=\"none\" stroke=\"black\" d=\"M837.307,-522.95C777.999,-504.618 677.898,-473.678 614.476,-454.074\"/>\n",
       "<polygon fill=\"black\" stroke=\"black\" points=\"615.211,-450.638 604.623,-451.029 613.144,-457.326 615.211,-450.638\"/>\n",
       "<text text-anchor=\"middle\" x=\"616.292\" y=\"-469.439\" font-family=\"Times,serif\" font-size=\"14.00\">True</text>\n",
       "</g>\n",
       "<!-- 22 -->\n",
       "<g id=\"node23\" class=\"node\"><title>22</title>\n",
       "<polygon fill=\"#e58139\" fill-opacity=\"0.325490\" stroke=\"black\" points=\"1266.5,-469 1169.5,-469 1169.5,-401 1266.5,-401 1266.5,-469\"/>\n",
       "<text text-anchor=\"middle\" x=\"1218\" y=\"-453.8\" font-family=\"Times,serif\" font-size=\"14.00\">X[0] &lt;= 3.85</text>\n",
       "<text text-anchor=\"middle\" x=\"1218\" y=\"-438.8\" font-family=\"Times,serif\" font-size=\"14.00\">mse = 0.124</text>\n",
       "<text text-anchor=\"middle\" x=\"1218\" y=\"-423.8\" font-family=\"Times,serif\" font-size=\"14.00\">samples = 29</text>\n",
       "<text text-anchor=\"middle\" x=\"1218\" y=\"-408.8\" font-family=\"Times,serif\" font-size=\"14.00\">value = &#45;0.667</text>\n",
       "</g>\n",
       "<!-- 0&#45;&gt;22 -->\n",
       "<g id=\"edge22\" class=\"edge\"><title>0&#45;&gt;22</title>\n",
       "<path fill=\"none\" stroke=\"black\" d=\"M934.631,-523.059C994.297,-504.728 1095.38,-473.672 1159.31,-454.031\"/>\n",
       "<polygon fill=\"black\" stroke=\"black\" points=\"1160.71,-457.263 1169.24,-450.981 1158.65,-450.572 1160.71,-457.263\"/>\n",
       "<text text-anchor=\"middle\" x=\"1157.53\" y=\"-469.371\" font-family=\"Times,serif\" font-size=\"14.00\">False</text>\n",
       "</g>\n",
       "<!-- 2 -->\n",
       "<g id=\"node3\" class=\"node\"><title>2</title>\n",
       "<polygon fill=\"#e58139\" fill-opacity=\"0.564706\" stroke=\"black\" points=\"316.5,-365 219.5,-365 219.5,-297 316.5,-297 316.5,-365\"/>\n",
       "<text text-anchor=\"middle\" x=\"268\" y=\"-349.8\" font-family=\"Times,serif\" font-size=\"14.00\">X[0] &lt;= 0.046</text>\n",
       "<text text-anchor=\"middle\" x=\"268\" y=\"-334.8\" font-family=\"Times,serif\" font-size=\"14.00\">mse = 0.192</text>\n",
       "<text text-anchor=\"middle\" x=\"268\" y=\"-319.8\" font-family=\"Times,serif\" font-size=\"14.00\">samples = 11</text>\n",
       "<text text-anchor=\"middle\" x=\"268\" y=\"-304.8\" font-family=\"Times,serif\" font-size=\"14.00\">value = 0.052</text>\n",
       "</g>\n",
       "<!-- 1&#45;&gt;2 -->\n",
       "<g id=\"edge2\" class=\"edge\"><title>1&#45;&gt;2</title>\n",
       "<path fill=\"none\" stroke=\"black\" d=\"M507.47,-416.812C457.517,-399.121 379.668,-371.549 326.38,-352.676\"/>\n",
       "<polygon fill=\"black\" stroke=\"black\" points=\"327.323,-349.297 316.729,-349.258 324.986,-355.896 327.323,-349.297\"/>\n",
       "</g>\n",
       "<!-- 9 -->\n",
       "<g id=\"node10\" class=\"node\"><title>9</title>\n",
       "<polygon fill=\"#e58139\" fill-opacity=\"0.788235\" stroke=\"black\" points=\"604.5,-365 507.5,-365 507.5,-297 604.5,-297 604.5,-365\"/>\n",
       "<text text-anchor=\"middle\" x=\"556\" y=\"-349.8\" font-family=\"Times,serif\" font-size=\"14.00\">X[0] &lt;= 2.029</text>\n",
       "<text text-anchor=\"middle\" x=\"556\" y=\"-334.8\" font-family=\"Times,serif\" font-size=\"14.00\">mse = 0.148</text>\n",
       "<text text-anchor=\"middle\" x=\"556\" y=\"-319.8\" font-family=\"Times,serif\" font-size=\"14.00\">samples = 40</text>\n",
       "<text text-anchor=\"middle\" x=\"556\" y=\"-304.8\" font-family=\"Times,serif\" font-size=\"14.00\">value = 0.714</text>\n",
       "</g>\n",
       "<!-- 1&#45;&gt;9 -->\n",
       "<g id=\"edge9\" class=\"edge\"><title>1&#45;&gt;9</title>\n",
       "<path fill=\"none\" stroke=\"black\" d=\"M556,-400.884C556,-392.778 556,-383.982 556,-375.472\"/>\n",
       "<polygon fill=\"black\" stroke=\"black\" points=\"559.5,-375.299 556,-365.299 552.5,-375.299 559.5,-375.299\"/>\n",
       "</g>\n",
       "<!-- 3 -->\n",
       "<g id=\"node4\" class=\"node\"><title>3</title>\n",
       "<polygon fill=\"#e58139\" fill-opacity=\"0.164706\" stroke=\"black\" points=\"201.5,-253.5 104.5,-253.5 104.5,-200.5 201.5,-200.5 201.5,-253.5\"/>\n",
       "<text text-anchor=\"middle\" x=\"153\" y=\"-238.3\" font-family=\"Times,serif\" font-size=\"14.00\">mse = 0.0</text>\n",
       "<text text-anchor=\"middle\" x=\"153\" y=\"-223.3\" font-family=\"Times,serif\" font-size=\"14.00\">samples = 1</text>\n",
       "<text text-anchor=\"middle\" x=\"153\" y=\"-208.3\" font-family=\"Times,serif\" font-size=\"14.00\">value = &#45;1.149</text>\n",
       "</g>\n",
       "<!-- 2&#45;&gt;3 -->\n",
       "<g id=\"edge3\" class=\"edge\"><title>2&#45;&gt;3</title>\n",
       "<path fill=\"none\" stroke=\"black\" d=\"M230.663,-296.884C217.395,-285.116 202.488,-271.894 189.308,-260.203\"/>\n",
       "<polygon fill=\"black\" stroke=\"black\" points=\"191.576,-257.537 181.772,-253.52 186.931,-262.774 191.576,-257.537\"/>\n",
       "</g>\n",
       "<!-- 4 -->\n",
       "<g id=\"node5\" class=\"node\"><title>4</title>\n",
       "<polygon fill=\"#e58139\" fill-opacity=\"0.603922\" stroke=\"black\" points=\"316.5,-261 219.5,-261 219.5,-193 316.5,-193 316.5,-261\"/>\n",
       "<text text-anchor=\"middle\" x=\"268\" y=\"-245.8\" font-family=\"Times,serif\" font-size=\"14.00\">X[0] &lt;= 0.502</text>\n",
       "<text text-anchor=\"middle\" x=\"268\" y=\"-230.8\" font-family=\"Times,serif\" font-size=\"14.00\">mse = 0.052</text>\n",
       "<text text-anchor=\"middle\" x=\"268\" y=\"-215.8\" font-family=\"Times,serif\" font-size=\"14.00\">samples = 10</text>\n",
       "<text text-anchor=\"middle\" x=\"268\" y=\"-200.8\" font-family=\"Times,serif\" font-size=\"14.00\">value = 0.173</text>\n",
       "</g>\n",
       "<!-- 2&#45;&gt;4 -->\n",
       "<g id=\"edge4\" class=\"edge\"><title>2&#45;&gt;4</title>\n",
       "<path fill=\"none\" stroke=\"black\" d=\"M268,-296.884C268,-288.778 268,-279.982 268,-271.472\"/>\n",
       "<polygon fill=\"black\" stroke=\"black\" points=\"271.5,-271.299 268,-261.299 264.5,-271.299 271.5,-271.299\"/>\n",
       "</g>\n",
       "<!-- 5 -->\n",
       "<g id=\"node6\" class=\"node\"><title>5</title>\n",
       "<polygon fill=\"#e58139\" fill-opacity=\"0.623529\" stroke=\"black\" points=\"201.5,-157 104.5,-157 104.5,-89 201.5,-89 201.5,-157\"/>\n",
       "<text text-anchor=\"middle\" x=\"153\" y=\"-141.8\" font-family=\"Times,serif\" font-size=\"14.00\">X[0] &lt;= 0.258</text>\n",
       "<text text-anchor=\"middle\" x=\"153\" y=\"-126.8\" font-family=\"Times,serif\" font-size=\"14.00\">mse = 0.035</text>\n",
       "<text text-anchor=\"middle\" x=\"153\" y=\"-111.8\" font-family=\"Times,serif\" font-size=\"14.00\">samples = 9</text>\n",
       "<text text-anchor=\"middle\" x=\"153\" y=\"-96.8\" font-family=\"Times,serif\" font-size=\"14.00\">value = 0.221</text>\n",
       "</g>\n",
       "<!-- 4&#45;&gt;5 -->\n",
       "<g id=\"edge5\" class=\"edge\"><title>4&#45;&gt;5</title>\n",
       "<path fill=\"none\" stroke=\"black\" d=\"M230.663,-192.884C220.319,-183.709 208.978,-173.65 198.236,-164.123\"/>\n",
       "<polygon fill=\"black\" stroke=\"black\" points=\"200.347,-161.317 190.543,-157.299 195.702,-166.553 200.347,-161.317\"/>\n",
       "</g>\n",
       "<!-- 8 -->\n",
       "<g id=\"node9\" class=\"node\"><title>8</title>\n",
       "<polygon fill=\"#e58139\" fill-opacity=\"0.458824\" stroke=\"black\" points=\"316.5,-149.5 219.5,-149.5 219.5,-96.5 316.5,-96.5 316.5,-149.5\"/>\n",
       "<text text-anchor=\"middle\" x=\"268\" y=\"-134.3\" font-family=\"Times,serif\" font-size=\"14.00\">mse = &#45;0.0</text>\n",
       "<text text-anchor=\"middle\" x=\"268\" y=\"-119.3\" font-family=\"Times,serif\" font-size=\"14.00\">samples = 1</text>\n",
       "<text text-anchor=\"middle\" x=\"268\" y=\"-104.3\" font-family=\"Times,serif\" font-size=\"14.00\">value = &#45;0.263</text>\n",
       "</g>\n",
       "<!-- 4&#45;&gt;8 -->\n",
       "<g id=\"edge8\" class=\"edge\"><title>4&#45;&gt;8</title>\n",
       "<path fill=\"none\" stroke=\"black\" d=\"M268,-192.884C268,-182.326 268,-170.597 268,-159.854\"/>\n",
       "<polygon fill=\"black\" stroke=\"black\" points=\"271.5,-159.52 268,-149.52 264.5,-159.52 271.5,-159.52\"/>\n",
       "</g>\n",
       "<!-- 6 -->\n",
       "<g id=\"node7\" class=\"node\"><title>6</title>\n",
       "<polygon fill=\"#e58139\" fill-opacity=\"0.572549\" stroke=\"black\" points=\"92,-53 0,-53 0,-0 92,-0 92,-53\"/>\n",
       "<text text-anchor=\"middle\" x=\"46\" y=\"-37.8\" font-family=\"Times,serif\" font-size=\"14.00\">mse = 0.012</text>\n",
       "<text text-anchor=\"middle\" x=\"46\" y=\"-22.8\" font-family=\"Times,serif\" font-size=\"14.00\">samples = 5</text>\n",
       "<text text-anchor=\"middle\" x=\"46\" y=\"-7.8\" font-family=\"Times,serif\" font-size=\"14.00\">value = 0.079</text>\n",
       "</g>\n",
       "<!-- 5&#45;&gt;6 -->\n",
       "<g id=\"edge6\" class=\"edge\"><title>5&#45;&gt;6</title>\n",
       "<path fill=\"none\" stroke=\"black\" d=\"M115.577,-88.9485C104.908,-79.526 93.2987,-69.2731 82.675,-59.8906\"/>\n",
       "<polygon fill=\"black\" stroke=\"black\" points=\"84.9533,-57.2331 75.141,-53.2367 80.3195,-62.4798 84.9533,-57.2331\"/>\n",
       "</g>\n",
       "<!-- 7 -->\n",
       "<g id=\"node8\" class=\"node\"><title>7</title>\n",
       "<polygon fill=\"#e58139\" fill-opacity=\"0.682353\" stroke=\"black\" points=\"202,-53 110,-53 110,-0 202,-0 202,-53\"/>\n",
       "<text text-anchor=\"middle\" x=\"156\" y=\"-37.8\" font-family=\"Times,serif\" font-size=\"14.00\">mse = 0.007</text>\n",
       "<text text-anchor=\"middle\" x=\"156\" y=\"-22.8\" font-family=\"Times,serif\" font-size=\"14.00\">samples = 4</text>\n",
       "<text text-anchor=\"middle\" x=\"156\" y=\"-7.8\" font-family=\"Times,serif\" font-size=\"14.00\">value = 0.398</text>\n",
       "</g>\n",
       "<!-- 5&#45;&gt;7 -->\n",
       "<g id=\"edge7\" class=\"edge\"><title>5&#45;&gt;7</title>\n",
       "<path fill=\"none\" stroke=\"black\" d=\"M154.049,-88.9485C154.311,-80.7153 154.592,-71.848 154.858,-63.4814\"/>\n",
       "<polygon fill=\"black\" stroke=\"black\" points=\"158.364,-63.3428 155.183,-53.2367 151.367,-63.1206 158.364,-63.3428\"/>\n",
       "</g>\n",
       "<!-- 10 -->\n",
       "<g id=\"node11\" class=\"node\"><title>10</title>\n",
       "<polygon fill=\"#e58139\" fill-opacity=\"0.827451\" stroke=\"black\" points=\"546.5,-261 449.5,-261 449.5,-193 546.5,-193 546.5,-261\"/>\n",
       "<text text-anchor=\"middle\" x=\"498\" y=\"-245.8\" font-family=\"Times,serif\" font-size=\"14.00\">X[0] &lt;= 1.421</text>\n",
       "<text text-anchor=\"middle\" x=\"498\" y=\"-230.8\" font-family=\"Times,serif\" font-size=\"14.00\">mse = 0.093</text>\n",
       "<text text-anchor=\"middle\" x=\"498\" y=\"-215.8\" font-family=\"Times,serif\" font-size=\"14.00\">samples = 24</text>\n",
       "<text text-anchor=\"middle\" x=\"498\" y=\"-200.8\" font-family=\"Times,serif\" font-size=\"14.00\">value = 0.839</text>\n",
       "</g>\n",
       "<!-- 9&#45;&gt;10 -->\n",
       "<g id=\"edge10\" class=\"edge\"><title>9&#45;&gt;10</title>\n",
       "<path fill=\"none\" stroke=\"black\" d=\"M537.169,-296.884C532.307,-288.332 527.008,-279.013 521.923,-270.072\"/>\n",
       "<polygon fill=\"black\" stroke=\"black\" points=\"524.921,-268.262 516.935,-261.299 518.835,-271.722 524.921,-268.262\"/>\n",
       "</g>\n",
       "<!-- 17 -->\n",
       "<g id=\"node18\" class=\"node\"><title>17</title>\n",
       "<polygon fill=\"#e58139\" fill-opacity=\"0.725490\" stroke=\"black\" points=\"661.5,-261 564.5,-261 564.5,-193 661.5,-193 661.5,-261\"/>\n",
       "<text text-anchor=\"middle\" x=\"613\" y=\"-245.8\" font-family=\"Times,serif\" font-size=\"14.00\">X[0] &lt;= 2.071</text>\n",
       "<text text-anchor=\"middle\" x=\"613\" y=\"-230.8\" font-family=\"Times,serif\" font-size=\"14.00\">mse = 0.172</text>\n",
       "<text text-anchor=\"middle\" x=\"613\" y=\"-215.8\" font-family=\"Times,serif\" font-size=\"14.00\">samples = 16</text>\n",
       "<text text-anchor=\"middle\" x=\"613\" y=\"-200.8\" font-family=\"Times,serif\" font-size=\"14.00\">value = 0.527</text>\n",
       "</g>\n",
       "<!-- 9&#45;&gt;17 -->\n",
       "<g id=\"edge17\" class=\"edge\"><title>9&#45;&gt;17</title>\n",
       "<path fill=\"none\" stroke=\"black\" d=\"M574.506,-296.884C579.285,-288.332 584.493,-279.013 589.489,-270.072\"/>\n",
       "<polygon fill=\"black\" stroke=\"black\" points=\"592.569,-271.736 594.392,-261.299 586.458,-268.321 592.569,-271.736\"/>\n",
       "</g>\n",
       "<!-- 11 -->\n",
       "<g id=\"node12\" class=\"node\"><title>11</title>\n",
       "<polygon fill=\"#e58139\" fill-opacity=\"0.796078\" stroke=\"black\" points=\"431.5,-157 334.5,-157 334.5,-89 431.5,-89 431.5,-157\"/>\n",
       "<text text-anchor=\"middle\" x=\"383\" y=\"-141.8\" font-family=\"Times,serif\" font-size=\"14.00\">X[0] &lt;= 1.365</text>\n",
       "<text text-anchor=\"middle\" x=\"383\" y=\"-126.8\" font-family=\"Times,serif\" font-size=\"14.00\">mse = 0.119</text>\n",
       "<text text-anchor=\"middle\" x=\"383\" y=\"-111.8\" font-family=\"Times,serif\" font-size=\"14.00\">samples = 15</text>\n",
       "<text text-anchor=\"middle\" x=\"383\" y=\"-96.8\" font-family=\"Times,serif\" font-size=\"14.00\">value = 0.741</text>\n",
       "</g>\n",
       "<!-- 10&#45;&gt;11 -->\n",
       "<g id=\"edge11\" class=\"edge\"><title>10&#45;&gt;11</title>\n",
       "<path fill=\"none\" stroke=\"black\" d=\"M460.663,-192.884C450.319,-183.709 438.978,-173.65 428.236,-164.123\"/>\n",
       "<polygon fill=\"black\" stroke=\"black\" points=\"430.347,-161.317 420.543,-157.299 425.702,-166.553 430.347,-161.317\"/>\n",
       "</g>\n",
       "<!-- 14 -->\n",
       "<g id=\"node15\" class=\"node\"><title>14</title>\n",
       "<polygon fill=\"#e58139\" fill-opacity=\"0.882353\" stroke=\"black\" points=\"546.5,-157 449.5,-157 449.5,-89 546.5,-89 546.5,-157\"/>\n",
       "<text text-anchor=\"middle\" x=\"498\" y=\"-141.8\" font-family=\"Times,serif\" font-size=\"14.00\">X[0] &lt;= 1.861</text>\n",
       "<text text-anchor=\"middle\" x=\"498\" y=\"-126.8\" font-family=\"Times,serif\" font-size=\"14.00\">mse = 0.007</text>\n",
       "<text text-anchor=\"middle\" x=\"498\" y=\"-111.8\" font-family=\"Times,serif\" font-size=\"14.00\">samples = 9</text>\n",
       "<text text-anchor=\"middle\" x=\"498\" y=\"-96.8\" font-family=\"Times,serif\" font-size=\"14.00\">value = 1.0</text>\n",
       "</g>\n",
       "<!-- 10&#45;&gt;14 -->\n",
       "<g id=\"edge14\" class=\"edge\"><title>10&#45;&gt;14</title>\n",
       "<path fill=\"none\" stroke=\"black\" d=\"M498,-192.884C498,-184.778 498,-175.982 498,-167.472\"/>\n",
       "<polygon fill=\"black\" stroke=\"black\" points=\"501.5,-167.299 498,-157.299 494.5,-167.299 501.5,-167.299\"/>\n",
       "</g>\n",
       "<!-- 12 -->\n",
       "<g id=\"node13\" class=\"node\"><title>12</title>\n",
       "<polygon fill=\"#e58139\" fill-opacity=\"0.819608\" stroke=\"black\" points=\"316,-53 224,-53 224,-0 316,-0 316,-53\"/>\n",
       "<text text-anchor=\"middle\" x=\"270\" y=\"-37.8\" font-family=\"Times,serif\" font-size=\"14.00\">mse = 0.059</text>\n",
       "<text text-anchor=\"middle\" x=\"270\" y=\"-22.8\" font-family=\"Times,serif\" font-size=\"14.00\">samples = 14</text>\n",
       "<text text-anchor=\"middle\" x=\"270\" y=\"-7.8\" font-family=\"Times,serif\" font-size=\"14.00\">value = 0.809</text>\n",
       "</g>\n",
       "<!-- 11&#45;&gt;12 -->\n",
       "<g id=\"edge12\" class=\"edge\"><title>11&#45;&gt;12</title>\n",
       "<path fill=\"none\" stroke=\"black\" d=\"M343.478,-88.9485C332.211,-79.526 319.951,-69.2731 308.732,-59.8906\"/>\n",
       "<polygon fill=\"black\" stroke=\"black\" points=\"310.692,-56.967 300.775,-53.2367 306.201,-62.3368 310.692,-56.967\"/>\n",
       "</g>\n",
       "<!-- 13 -->\n",
       "<g id=\"node14\" class=\"node\"><title>13</title>\n",
       "<polygon fill=\"#e58139\" fill-opacity=\"0.478431\" stroke=\"black\" points=\"431.5,-53 334.5,-53 334.5,-0 431.5,-0 431.5,-53\"/>\n",
       "<text text-anchor=\"middle\" x=\"383\" y=\"-37.8\" font-family=\"Times,serif\" font-size=\"14.00\">mse = 0.0</text>\n",
       "<text text-anchor=\"middle\" x=\"383\" y=\"-22.8\" font-family=\"Times,serif\" font-size=\"14.00\">samples = 1</text>\n",
       "<text text-anchor=\"middle\" x=\"383\" y=\"-7.8\" font-family=\"Times,serif\" font-size=\"14.00\">value = &#45;0.202</text>\n",
       "</g>\n",
       "<!-- 11&#45;&gt;13 -->\n",
       "<g id=\"edge13\" class=\"edge\"><title>11&#45;&gt;13</title>\n",
       "<path fill=\"none\" stroke=\"black\" d=\"M383,-88.9485C383,-80.7153 383,-71.848 383,-63.4814\"/>\n",
       "<polygon fill=\"black\" stroke=\"black\" points=\"386.5,-63.2367 383,-53.2367 379.5,-63.2367 386.5,-63.2367\"/>\n",
       "</g>\n",
       "<!-- 15 -->\n",
       "<g id=\"node16\" class=\"node\"><title>15</title>\n",
       "<polygon fill=\"#e58139\" fill-opacity=\"0.890196\" stroke=\"black\" points=\"542,-53 450,-53 450,-0 542,-0 542,-53\"/>\n",
       "<text text-anchor=\"middle\" x=\"496\" y=\"-37.8\" font-family=\"Times,serif\" font-size=\"14.00\">mse = 0.006</text>\n",
       "<text text-anchor=\"middle\" x=\"496\" y=\"-22.8\" font-family=\"Times,serif\" font-size=\"14.00\">samples = 7</text>\n",
       "<text text-anchor=\"middle\" x=\"496\" y=\"-7.8\" font-family=\"Times,serif\" font-size=\"14.00\">value = 1.025</text>\n",
       "</g>\n",
       "<!-- 14&#45;&gt;15 -->\n",
       "<g id=\"edge15\" class=\"edge\"><title>14&#45;&gt;15</title>\n",
       "<path fill=\"none\" stroke=\"black\" d=\"M497.3,-88.9485C497.126,-80.7153 496.939,-71.848 496.762,-63.4814\"/>\n",
       "<polygon fill=\"black\" stroke=\"black\" points=\"500.256,-63.1604 496.545,-53.2367 493.257,-63.3086 500.256,-63.1604\"/>\n",
       "</g>\n",
       "<!-- 16 -->\n",
       "<g id=\"node17\" class=\"node\"><title>16</title>\n",
       "<polygon fill=\"#e58139\" fill-opacity=\"0.854902\" stroke=\"black\" points=\"652,-53 560,-53 560,-0 652,-0 652,-53\"/>\n",
       "<text text-anchor=\"middle\" x=\"606\" y=\"-37.8\" font-family=\"Times,serif\" font-size=\"14.00\">mse = 0.0</text>\n",
       "<text text-anchor=\"middle\" x=\"606\" y=\"-22.8\" font-family=\"Times,serif\" font-size=\"14.00\">samples = 2</text>\n",
       "<text text-anchor=\"middle\" x=\"606\" y=\"-7.8\" font-family=\"Times,serif\" font-size=\"14.00\">value = 0.915</text>\n",
       "</g>\n",
       "<!-- 14&#45;&gt;16 -->\n",
       "<g id=\"edge16\" class=\"edge\"><title>14&#45;&gt;16</title>\n",
       "<path fill=\"none\" stroke=\"black\" d=\"M535.773,-88.9485C546.542,-79.526 558.259,-69.2731 568.982,-59.8906\"/>\n",
       "<polygon fill=\"black\" stroke=\"black\" points=\"571.366,-62.4558 576.587,-53.2367 566.756,-57.1878 571.366,-62.4558\"/>\n",
       "</g>\n",
       "<!-- 18 -->\n",
       "<g id=\"node19\" class=\"node\"><title>18</title>\n",
       "<polygon fill=\"#e58139\" fill-opacity=\"0.376471\" stroke=\"black\" points=\"661.5,-149.5 564.5,-149.5 564.5,-96.5 661.5,-96.5 661.5,-149.5\"/>\n",
       "<text text-anchor=\"middle\" x=\"613\" y=\"-134.3\" font-family=\"Times,serif\" font-size=\"14.00\">mse = 0.0</text>\n",
       "<text text-anchor=\"middle\" x=\"613\" y=\"-119.3\" font-family=\"Times,serif\" font-size=\"14.00\">samples = 1</text>\n",
       "<text text-anchor=\"middle\" x=\"613\" y=\"-104.3\" font-family=\"Times,serif\" font-size=\"14.00\">value = &#45;0.517</text>\n",
       "</g>\n",
       "<!-- 17&#45;&gt;18 -->\n",
       "<g id=\"edge18\" class=\"edge\"><title>17&#45;&gt;18</title>\n",
       "<path fill=\"none\" stroke=\"black\" d=\"M613,-192.884C613,-182.326 613,-170.597 613,-159.854\"/>\n",
       "<polygon fill=\"black\" stroke=\"black\" points=\"616.5,-159.52 613,-149.52 609.5,-159.52 616.5,-159.52\"/>\n",
       "</g>\n",
       "<!-- 19 -->\n",
       "<g id=\"node20\" class=\"node\"><title>19</title>\n",
       "<polygon fill=\"#e58139\" fill-opacity=\"0.749020\" stroke=\"black\" points=\"772,-157 680,-157 680,-89 772,-89 772,-157\"/>\n",
       "<text text-anchor=\"middle\" x=\"726\" y=\"-141.8\" font-family=\"Times,serif\" font-size=\"14.00\">X[0] &lt;= 2.94</text>\n",
       "<text text-anchor=\"middle\" x=\"726\" y=\"-126.8\" font-family=\"Times,serif\" font-size=\"14.00\">mse = 0.106</text>\n",
       "<text text-anchor=\"middle\" x=\"726\" y=\"-111.8\" font-family=\"Times,serif\" font-size=\"14.00\">samples = 15</text>\n",
       "<text text-anchor=\"middle\" x=\"726\" y=\"-96.8\" font-family=\"Times,serif\" font-size=\"14.00\">value = 0.596</text>\n",
       "</g>\n",
       "<!-- 17&#45;&gt;19 -->\n",
       "<g id=\"edge19\" class=\"edge\"><title>17&#45;&gt;19</title>\n",
       "<path fill=\"none\" stroke=\"black\" d=\"M649.688,-192.884C659.852,-183.709 670.995,-173.65 681.55,-164.123\"/>\n",
       "<polygon fill=\"black\" stroke=\"black\" points=\"684.032,-166.598 689.11,-157.299 679.341,-161.402 684.032,-166.598\"/>\n",
       "</g>\n",
       "<!-- 20 -->\n",
       "<g id=\"node21\" class=\"node\"><title>20</title>\n",
       "<polygon fill=\"#e58139\" fill-opacity=\"0.729412\" stroke=\"black\" points=\"762,-53 670,-53 670,-0 762,-0 762,-53\"/>\n",
       "<text text-anchor=\"middle\" x=\"716\" y=\"-37.8\" font-family=\"Times,serif\" font-size=\"14.00\">mse = 0.071</text>\n",
       "<text text-anchor=\"middle\" x=\"716\" y=\"-22.8\" font-family=\"Times,serif\" font-size=\"14.00\">samples = 14</text>\n",
       "<text text-anchor=\"middle\" x=\"716\" y=\"-7.8\" font-family=\"Times,serif\" font-size=\"14.00\">value = 0.542</text>\n",
       "</g>\n",
       "<!-- 19&#45;&gt;20 -->\n",
       "<g id=\"edge20\" class=\"edge\"><title>19&#45;&gt;20</title>\n",
       "<path fill=\"none\" stroke=\"black\" d=\"M722.502,-88.9485C721.622,-80.6238 720.672,-71.6509 719.778,-63.2027\"/>\n",
       "<polygon fill=\"black\" stroke=\"black\" points=\"723.256,-62.8128 718.723,-53.2367 716.295,-63.5495 723.256,-62.8128\"/>\n",
       "</g>\n",
       "<!-- 21 -->\n",
       "<g id=\"node22\" class=\"node\"><title>21</title>\n",
       "<polygon fill=\"#e58139\" stroke=\"black\" points=\"866,-53 780,-53 780,-0 866,-0 866,-53\"/>\n",
       "<text text-anchor=\"middle\" x=\"823\" y=\"-37.8\" font-family=\"Times,serif\" font-size=\"14.00\">mse = 0.0</text>\n",
       "<text text-anchor=\"middle\" x=\"823\" y=\"-22.8\" font-family=\"Times,serif\" font-size=\"14.00\">samples = 1</text>\n",
       "<text text-anchor=\"middle\" x=\"823\" y=\"-7.8\" font-family=\"Times,serif\" font-size=\"14.00\">value = 1.35</text>\n",
       "</g>\n",
       "<!-- 19&#45;&gt;21 -->\n",
       "<g id=\"edge21\" class=\"edge\"><title>19&#45;&gt;21</title>\n",
       "<path fill=\"none\" stroke=\"black\" d=\"M759.926,-88.9485C769.41,-79.709 779.713,-69.671 789.191,-60.4381\"/>\n",
       "<polygon fill=\"black\" stroke=\"black\" points=\"791.862,-62.7219 796.582,-53.2367 786.977,-57.7079 791.862,-62.7219\"/>\n",
       "</g>\n",
       "<!-- 23 -->\n",
       "<g id=\"node24\" class=\"node\"><title>23</title>\n",
       "<polygon fill=\"#e58139\" fill-opacity=\"0.396078\" stroke=\"black\" points=\"1266.5,-365 1169.5,-365 1169.5,-297 1266.5,-297 1266.5,-365\"/>\n",
       "<text text-anchor=\"middle\" x=\"1218\" y=\"-349.8\" font-family=\"Times,serif\" font-size=\"14.00\">X[0] &lt;= 3.429</text>\n",
       "<text text-anchor=\"middle\" x=\"1218\" y=\"-334.8\" font-family=\"Times,serif\" font-size=\"14.00\">mse = 0.124</text>\n",
       "<text text-anchor=\"middle\" x=\"1218\" y=\"-319.8\" font-family=\"Times,serif\" font-size=\"14.00\">samples = 14</text>\n",
       "<text text-anchor=\"middle\" x=\"1218\" y=\"-304.8\" font-family=\"Times,serif\" font-size=\"14.00\">value = &#45;0.452</text>\n",
       "</g>\n",
       "<!-- 22&#45;&gt;23 -->\n",
       "<g id=\"edge23\" class=\"edge\"><title>22&#45;&gt;23</title>\n",
       "<path fill=\"none\" stroke=\"black\" d=\"M1218,-400.884C1218,-392.778 1218,-383.982 1218,-375.472\"/>\n",
       "<polygon fill=\"black\" stroke=\"black\" points=\"1221.5,-375.299 1218,-365.299 1214.5,-375.299 1221.5,-375.299\"/>\n",
       "</g>\n",
       "<!-- 36 -->\n",
       "<g id=\"node37\" class=\"node\"><title>36</title>\n",
       "<polygon fill=\"#e58139\" fill-opacity=\"0.254902\" stroke=\"black\" points=\"1722.5,-365 1625.5,-365 1625.5,-297 1722.5,-297 1722.5,-365\"/>\n",
       "<text text-anchor=\"middle\" x=\"1674\" y=\"-349.8\" font-family=\"Times,serif\" font-size=\"14.00\">X[0] &lt;= 4.68</text>\n",
       "<text text-anchor=\"middle\" x=\"1674\" y=\"-334.8\" font-family=\"Times,serif\" font-size=\"14.00\">mse = 0.041</text>\n",
       "<text text-anchor=\"middle\" x=\"1674\" y=\"-319.8\" font-family=\"Times,serif\" font-size=\"14.00\">samples = 15</text>\n",
       "<text text-anchor=\"middle\" x=\"1674\" y=\"-304.8\" font-family=\"Times,serif\" font-size=\"14.00\">value = &#45;0.869</text>\n",
       "</g>\n",
       "<!-- 22&#45;&gt;36 -->\n",
       "<g id=\"edge36\" class=\"edge\"><title>22&#45;&gt;36</title>\n",
       "<path fill=\"none\" stroke=\"black\" d=\"M1266.8,-423.084C1351.29,-404.186 1524.45,-365.452 1615.34,-345.121\"/>\n",
       "<polygon fill=\"black\" stroke=\"black\" points=\"1616.21,-348.513 1625.21,-342.914 1614.68,-341.682 1616.21,-348.513\"/>\n",
       "</g>\n",
       "<!-- 24 -->\n",
       "<g id=\"node25\" class=\"node\"><title>24</title>\n",
       "<polygon fill=\"#e58139\" fill-opacity=\"0.470588\" stroke=\"black\" points=\"1209.5,-261 1112.5,-261 1112.5,-193 1209.5,-193 1209.5,-261\"/>\n",
       "<text text-anchor=\"middle\" x=\"1161\" y=\"-245.8\" font-family=\"Times,serif\" font-size=\"14.00\">X[0] &lt;= 3.373</text>\n",
       "<text text-anchor=\"middle\" x=\"1161\" y=\"-230.8\" font-family=\"Times,serif\" font-size=\"14.00\">mse = 0.002</text>\n",
       "<text text-anchor=\"middle\" x=\"1161\" y=\"-215.8\" font-family=\"Times,serif\" font-size=\"14.00\">samples = 4</text>\n",
       "<text text-anchor=\"middle\" x=\"1161\" y=\"-200.8\" font-family=\"Times,serif\" font-size=\"14.00\">value = &#45;0.229</text>\n",
       "</g>\n",
       "<!-- 23&#45;&gt;24 -->\n",
       "<g id=\"edge24\" class=\"edge\"><title>23&#45;&gt;24</title>\n",
       "<path fill=\"none\" stroke=\"black\" d=\"M1199.49,-296.884C1194.72,-288.332 1189.51,-279.013 1184.51,-270.072\"/>\n",
       "<polygon fill=\"black\" stroke=\"black\" points=\"1187.54,-268.321 1179.61,-261.299 1181.43,-271.736 1187.54,-268.321\"/>\n",
       "</g>\n",
       "<!-- 31 -->\n",
       "<g id=\"node32\" class=\"node\"><title>31</title>\n",
       "<polygon fill=\"#e58139\" fill-opacity=\"0.364706\" stroke=\"black\" points=\"1324.5,-261 1227.5,-261 1227.5,-193 1324.5,-193 1324.5,-261\"/>\n",
       "<text text-anchor=\"middle\" x=\"1276\" y=\"-245.8\" font-family=\"Times,serif\" font-size=\"14.00\">X[0] &lt;= 3.446</text>\n",
       "<text text-anchor=\"middle\" x=\"1276\" y=\"-230.8\" font-family=\"Times,serif\" font-size=\"14.00\">mse = 0.145</text>\n",
       "<text text-anchor=\"middle\" x=\"1276\" y=\"-215.8\" font-family=\"Times,serif\" font-size=\"14.00\">samples = 10</text>\n",
       "<text text-anchor=\"middle\" x=\"1276\" y=\"-200.8\" font-family=\"Times,serif\" font-size=\"14.00\">value = &#45;0.541</text>\n",
       "</g>\n",
       "<!-- 23&#45;&gt;31 -->\n",
       "<g id=\"edge31\" class=\"edge\"><title>23&#45;&gt;31</title>\n",
       "<path fill=\"none\" stroke=\"black\" d=\"M1236.83,-296.884C1241.69,-288.332 1246.99,-279.013 1252.08,-270.072\"/>\n",
       "<polygon fill=\"black\" stroke=\"black\" points=\"1255.16,-271.722 1257.07,-261.299 1249.08,-268.262 1255.16,-271.722\"/>\n",
       "</g>\n",
       "<!-- 25 -->\n",
       "<g id=\"node26\" class=\"node\"><title>25</title>\n",
       "<polygon fill=\"#e58139\" fill-opacity=\"0.482353\" stroke=\"black\" points=\"1094.5,-157 997.5,-157 997.5,-89 1094.5,-89 1094.5,-157\"/>\n",
       "<text text-anchor=\"middle\" x=\"1046\" y=\"-141.8\" font-family=\"Times,serif\" font-size=\"14.00\">X[0] &lt;= 3.336</text>\n",
       "<text text-anchor=\"middle\" x=\"1046\" y=\"-126.8\" font-family=\"Times,serif\" font-size=\"14.00\">mse = 0.0</text>\n",
       "<text text-anchor=\"middle\" x=\"1046\" y=\"-111.8\" font-family=\"Times,serif\" font-size=\"14.00\">samples = 2</text>\n",
       "<text text-anchor=\"middle\" x=\"1046\" y=\"-96.8\" font-family=\"Times,serif\" font-size=\"14.00\">value = &#45;0.193</text>\n",
       "</g>\n",
       "<!-- 24&#45;&gt;25 -->\n",
       "<g id=\"edge25\" class=\"edge\"><title>24&#45;&gt;25</title>\n",
       "<path fill=\"none\" stroke=\"black\" d=\"M1123.66,-192.884C1113.32,-183.709 1101.98,-173.65 1091.24,-164.123\"/>\n",
       "<polygon fill=\"black\" stroke=\"black\" points=\"1093.35,-161.317 1083.54,-157.299 1088.7,-166.553 1093.35,-161.317\"/>\n",
       "</g>\n",
       "<!-- 28 -->\n",
       "<g id=\"node29\" class=\"node\"><title>28</title>\n",
       "<polygon fill=\"#e58139\" fill-opacity=\"0.458824\" stroke=\"black\" points=\"1209.5,-157 1112.5,-157 1112.5,-89 1209.5,-89 1209.5,-157\"/>\n",
       "<text text-anchor=\"middle\" x=\"1161\" y=\"-141.8\" font-family=\"Times,serif\" font-size=\"14.00\">X[0] &lt;= 3.41</text>\n",
       "<text text-anchor=\"middle\" x=\"1161\" y=\"-126.8\" font-family=\"Times,serif\" font-size=\"14.00\">mse = 0.0</text>\n",
       "<text text-anchor=\"middle\" x=\"1161\" y=\"-111.8\" font-family=\"Times,serif\" font-size=\"14.00\">samples = 2</text>\n",
       "<text text-anchor=\"middle\" x=\"1161\" y=\"-96.8\" font-family=\"Times,serif\" font-size=\"14.00\">value = &#45;0.265</text>\n",
       "</g>\n",
       "<!-- 24&#45;&gt;28 -->\n",
       "<g id=\"edge28\" class=\"edge\"><title>24&#45;&gt;28</title>\n",
       "<path fill=\"none\" stroke=\"black\" d=\"M1161,-192.884C1161,-184.778 1161,-175.982 1161,-167.472\"/>\n",
       "<polygon fill=\"black\" stroke=\"black\" points=\"1164.5,-167.299 1161,-157.299 1157.5,-167.299 1164.5,-167.299\"/>\n",
       "</g>\n",
       "<!-- 26 -->\n",
       "<g id=\"node27\" class=\"node\"><title>26</title>\n",
       "<polygon fill=\"#e58139\" fill-opacity=\"0.490196\" stroke=\"black\" points=\"981.5,-53 884.5,-53 884.5,-0 981.5,-0 981.5,-53\"/>\n",
       "<text text-anchor=\"middle\" x=\"933\" y=\"-37.8\" font-family=\"Times,serif\" font-size=\"14.00\">mse = 0.0</text>\n",
       "<text text-anchor=\"middle\" x=\"933\" y=\"-22.8\" font-family=\"Times,serif\" font-size=\"14.00\">samples = 1</text>\n",
       "<text text-anchor=\"middle\" x=\"933\" y=\"-7.8\" font-family=\"Times,serif\" font-size=\"14.00\">value = &#45;0.176</text>\n",
       "</g>\n",
       "<!-- 25&#45;&gt;26 -->\n",
       "<g id=\"edge26\" class=\"edge\"><title>25&#45;&gt;26</title>\n",
       "<path fill=\"none\" stroke=\"black\" d=\"M1006.48,-88.9485C995.211,-79.526 982.951,-69.2731 971.732,-59.8906\"/>\n",
       "<polygon fill=\"black\" stroke=\"black\" points=\"973.692,-56.967 963.775,-53.2367 969.201,-62.3368 973.692,-56.967\"/>\n",
       "</g>\n",
       "<!-- 27 -->\n",
       "<g id=\"node28\" class=\"node\"><title>27</title>\n",
       "<polygon fill=\"#e58139\" fill-opacity=\"0.478431\" stroke=\"black\" points=\"1096.5,-53 999.5,-53 999.5,-0 1096.5,-0 1096.5,-53\"/>\n",
       "<text text-anchor=\"middle\" x=\"1048\" y=\"-37.8\" font-family=\"Times,serif\" font-size=\"14.00\">mse = 0.0</text>\n",
       "<text text-anchor=\"middle\" x=\"1048\" y=\"-22.8\" font-family=\"Times,serif\" font-size=\"14.00\">samples = 1</text>\n",
       "<text text-anchor=\"middle\" x=\"1048\" y=\"-7.8\" font-family=\"Times,serif\" font-size=\"14.00\">value = &#45;0.209</text>\n",
       "</g>\n",
       "<!-- 25&#45;&gt;27 -->\n",
       "<g id=\"edge27\" class=\"edge\"><title>25&#45;&gt;27</title>\n",
       "<path fill=\"none\" stroke=\"black\" d=\"M1046.7,-88.9485C1046.87,-80.7153 1047.06,-71.848 1047.24,-63.4814\"/>\n",
       "<polygon fill=\"black\" stroke=\"black\" points=\"1050.74,-63.3086 1047.46,-53.2367 1043.74,-63.1604 1050.74,-63.3086\"/>\n",
       "</g>\n",
       "<!-- 29 -->\n",
       "<g id=\"node30\" class=\"node\"><title>29</title>\n",
       "<polygon fill=\"#e58139\" fill-opacity=\"0.462745\" stroke=\"black\" points=\"1205,-53 1115,-53 1115,-0 1205,-0 1205,-53\"/>\n",
       "<text text-anchor=\"middle\" x=\"1160\" y=\"-37.8\" font-family=\"Times,serif\" font-size=\"14.00\">mse = 0.0</text>\n",
       "<text text-anchor=\"middle\" x=\"1160\" y=\"-22.8\" font-family=\"Times,serif\" font-size=\"14.00\">samples = 1</text>\n",
       "<text text-anchor=\"middle\" x=\"1160\" y=\"-7.8\" font-family=\"Times,serif\" font-size=\"14.00\">value = &#45;0.25</text>\n",
       "</g>\n",
       "<!-- 28&#45;&gt;29 -->\n",
       "<g id=\"edge29\" class=\"edge\"><title>28&#45;&gt;29</title>\n",
       "<path fill=\"none\" stroke=\"black\" d=\"M1160.65,-88.9485C1160.56,-80.7153 1160.47,-71.848 1160.38,-63.4814\"/>\n",
       "<polygon fill=\"black\" stroke=\"black\" points=\"1163.88,-63.1991 1160.27,-53.2367 1156.88,-63.2732 1163.88,-63.1991\"/>\n",
       "</g>\n",
       "<!-- 30 -->\n",
       "<g id=\"node31\" class=\"node\"><title>30</title>\n",
       "<polygon fill=\"#e58139\" fill-opacity=\"0.454902\" stroke=\"black\" points=\"1320.5,-53 1223.5,-53 1223.5,-0 1320.5,-0 1320.5,-53\"/>\n",
       "<text text-anchor=\"middle\" x=\"1272\" y=\"-37.8\" font-family=\"Times,serif\" font-size=\"14.00\">mse = &#45;0.0</text>\n",
       "<text text-anchor=\"middle\" x=\"1272\" y=\"-22.8\" font-family=\"Times,serif\" font-size=\"14.00\">samples = 1</text>\n",
       "<text text-anchor=\"middle\" x=\"1272\" y=\"-7.8\" font-family=\"Times,serif\" font-size=\"14.00\">value = &#45;0.281</text>\n",
       "</g>\n",
       "<!-- 28&#45;&gt;30 -->\n",
       "<g id=\"edge30\" class=\"edge\"><title>28&#45;&gt;30</title>\n",
       "<path fill=\"none\" stroke=\"black\" d=\"M1199.82,-88.9485C1210.89,-79.526 1222.93,-69.2731 1233.95,-59.8906\"/>\n",
       "<polygon fill=\"black\" stroke=\"black\" points=\"1236.42,-62.3842 1241.77,-53.2367 1231.89,-57.0542 1236.42,-62.3842\"/>\n",
       "</g>\n",
       "<!-- 32 -->\n",
       "<g id=\"node33\" class=\"node\"><title>32</title>\n",
       "<polygon fill=\"none\" stroke=\"black\" points=\"1324.5,-149.5 1227.5,-149.5 1227.5,-96.5 1324.5,-96.5 1324.5,-149.5\"/>\n",
       "<text text-anchor=\"middle\" x=\"1276\" y=\"-134.3\" font-family=\"Times,serif\" font-size=\"14.00\">mse = 0.0</text>\n",
       "<text text-anchor=\"middle\" x=\"1276\" y=\"-119.3\" font-family=\"Times,serif\" font-size=\"14.00\">samples = 1</text>\n",
       "<text text-anchor=\"middle\" x=\"1276\" y=\"-104.3\" font-family=\"Times,serif\" font-size=\"14.00\">value = &#45;1.635</text>\n",
       "</g>\n",
       "<!-- 31&#45;&gt;32 -->\n",
       "<g id=\"edge32\" class=\"edge\"><title>31&#45;&gt;32</title>\n",
       "<path fill=\"none\" stroke=\"black\" d=\"M1276,-192.884C1276,-182.326 1276,-170.597 1276,-159.854\"/>\n",
       "<polygon fill=\"black\" stroke=\"black\" points=\"1279.5,-159.52 1276,-149.52 1272.5,-159.52 1279.5,-159.52\"/>\n",
       "</g>\n",
       "<!-- 33 -->\n",
       "<g id=\"node34\" class=\"node\"><title>33</title>\n",
       "<polygon fill=\"#e58139\" fill-opacity=\"0.407843\" stroke=\"black\" points=\"1439.5,-157 1342.5,-157 1342.5,-89 1439.5,-89 1439.5,-157\"/>\n",
       "<text text-anchor=\"middle\" x=\"1391\" y=\"-141.8\" font-family=\"Times,serif\" font-size=\"14.00\">X[0] &lt;= 3.616</text>\n",
       "<text text-anchor=\"middle\" x=\"1391\" y=\"-126.8\" font-family=\"Times,serif\" font-size=\"14.00\">mse = 0.014</text>\n",
       "<text text-anchor=\"middle\" x=\"1391\" y=\"-111.8\" font-family=\"Times,serif\" font-size=\"14.00\">samples = 9</text>\n",
       "<text text-anchor=\"middle\" x=\"1391\" y=\"-96.8\" font-family=\"Times,serif\" font-size=\"14.00\">value = &#45;0.419</text>\n",
       "</g>\n",
       "<!-- 31&#45;&gt;33 -->\n",
       "<g id=\"edge33\" class=\"edge\"><title>31&#45;&gt;33</title>\n",
       "<path fill=\"none\" stroke=\"black\" d=\"M1313.34,-192.884C1323.68,-183.709 1335.02,-173.65 1345.76,-164.123\"/>\n",
       "<polygon fill=\"black\" stroke=\"black\" points=\"1348.3,-166.553 1353.46,-157.299 1343.65,-161.317 1348.3,-166.553\"/>\n",
       "</g>\n",
       "<!-- 34 -->\n",
       "<g id=\"node35\" class=\"node\"><title>34</title>\n",
       "<polygon fill=\"#e58139\" fill-opacity=\"0.439216\" stroke=\"black\" points=\"1435.5,-53 1338.5,-53 1338.5,-0 1435.5,-0 1435.5,-53\"/>\n",
       "<text text-anchor=\"middle\" x=\"1387\" y=\"-37.8\" font-family=\"Times,serif\" font-size=\"14.00\">mse = 0.0</text>\n",
       "<text text-anchor=\"middle\" x=\"1387\" y=\"-22.8\" font-family=\"Times,serif\" font-size=\"14.00\">samples = 5</text>\n",
       "<text text-anchor=\"middle\" x=\"1387\" y=\"-7.8\" font-family=\"Times,serif\" font-size=\"14.00\">value = &#45;0.319</text>\n",
       "</g>\n",
       "<!-- 33&#45;&gt;34 -->\n",
       "<g id=\"edge34\" class=\"edge\"><title>33&#45;&gt;34</title>\n",
       "<path fill=\"none\" stroke=\"black\" d=\"M1389.6,-88.9485C1389.25,-80.7153 1388.88,-71.848 1388.52,-63.4814\"/>\n",
       "<polygon fill=\"black\" stroke=\"black\" points=\"1392.01,-63.0797 1388.09,-53.2367 1385.02,-63.3758 1392.01,-63.0797\"/>\n",
       "</g>\n",
       "<!-- 35 -->\n",
       "<g id=\"node36\" class=\"node\"><title>35</title>\n",
       "<polygon fill=\"#e58139\" fill-opacity=\"0.364706\" stroke=\"black\" points=\"1550.5,-53 1453.5,-53 1453.5,-0 1550.5,-0 1550.5,-53\"/>\n",
       "<text text-anchor=\"middle\" x=\"1502\" y=\"-37.8\" font-family=\"Times,serif\" font-size=\"14.00\">mse = 0.002</text>\n",
       "<text text-anchor=\"middle\" x=\"1502\" y=\"-22.8\" font-family=\"Times,serif\" font-size=\"14.00\">samples = 4</text>\n",
       "<text text-anchor=\"middle\" x=\"1502\" y=\"-7.8\" font-family=\"Times,serif\" font-size=\"14.00\">value = &#45;0.545</text>\n",
       "</g>\n",
       "<!-- 33&#45;&gt;35 -->\n",
       "<g id=\"edge35\" class=\"edge\"><title>33&#45;&gt;35</title>\n",
       "<path fill=\"none\" stroke=\"black\" d=\"M1429.82,-88.9485C1440.89,-79.526 1452.93,-69.2731 1463.95,-59.8906\"/>\n",
       "<polygon fill=\"black\" stroke=\"black\" points=\"1466.42,-62.3842 1471.77,-53.2367 1461.89,-57.0542 1466.42,-62.3842\"/>\n",
       "</g>\n",
       "<!-- 37 -->\n",
       "<g id=\"node38\" class=\"node\"><title>37</title>\n",
       "<polygon fill=\"#e58139\" fill-opacity=\"0.270588\" stroke=\"black\" points=\"1722.5,-261 1625.5,-261 1625.5,-193 1722.5,-193 1722.5,-261\"/>\n",
       "<text text-anchor=\"middle\" x=\"1674\" y=\"-245.8\" font-family=\"Times,serif\" font-size=\"14.00\">X[0] &lt;= 4.59</text>\n",
       "<text text-anchor=\"middle\" x=\"1674\" y=\"-230.8\" font-family=\"Times,serif\" font-size=\"14.00\">mse = 0.048</text>\n",
       "<text text-anchor=\"middle\" x=\"1674\" y=\"-215.8\" font-family=\"Times,serif\" font-size=\"14.00\">samples = 11</text>\n",
       "<text text-anchor=\"middle\" x=\"1674\" y=\"-200.8\" font-family=\"Times,serif\" font-size=\"14.00\">value = &#45;0.824</text>\n",
       "</g>\n",
       "<!-- 36&#45;&gt;37 -->\n",
       "<g id=\"edge37\" class=\"edge\"><title>36&#45;&gt;37</title>\n",
       "<path fill=\"none\" stroke=\"black\" d=\"M1674,-296.884C1674,-288.778 1674,-279.982 1674,-271.472\"/>\n",
       "<polygon fill=\"black\" stroke=\"black\" points=\"1677.5,-271.299 1674,-261.299 1670.5,-271.299 1677.5,-271.299\"/>\n",
       "</g>\n",
       "<!-- 42 -->\n",
       "<g id=\"node43\" class=\"node\"><title>42</title>\n",
       "<polygon fill=\"#e58139\" fill-opacity=\"0.215686\" stroke=\"black\" points=\"1895.5,-261 1798.5,-261 1798.5,-193 1895.5,-193 1895.5,-261\"/>\n",
       "<text text-anchor=\"middle\" x=\"1847\" y=\"-245.8\" font-family=\"Times,serif\" font-size=\"14.00\">X[0] &lt;= 4.893</text>\n",
       "<text text-anchor=\"middle\" x=\"1847\" y=\"-230.8\" font-family=\"Times,serif\" font-size=\"14.00\">mse = 0.0</text>\n",
       "<text text-anchor=\"middle\" x=\"1847\" y=\"-215.8\" font-family=\"Times,serif\" font-size=\"14.00\">samples = 4</text>\n",
       "<text text-anchor=\"middle\" x=\"1847\" y=\"-200.8\" font-family=\"Times,serif\" font-size=\"14.00\">value = &#45;0.99</text>\n",
       "</g>\n",
       "<!-- 36&#45;&gt;42 -->\n",
       "<g id=\"edge42\" class=\"edge\"><title>36&#45;&gt;42</title>\n",
       "<path fill=\"none\" stroke=\"black\" d=\"M1722.65,-301.316C1743.47,-289.042 1767.93,-274.62 1789.62,-261.829\"/>\n",
       "<polygon fill=\"black\" stroke=\"black\" points=\"1791.58,-264.739 1798.42,-256.645 1788.02,-258.709 1791.58,-264.739\"/>\n",
       "</g>\n",
       "<!-- 38 -->\n",
       "<g id=\"node39\" class=\"node\"><title>38</title>\n",
       "<polygon fill=\"#e58139\" fill-opacity=\"0.250980\" stroke=\"black\" points=\"1665.5,-157 1568.5,-157 1568.5,-89 1665.5,-89 1665.5,-157\"/>\n",
       "<text text-anchor=\"middle\" x=\"1617\" y=\"-141.8\" font-family=\"Times,serif\" font-size=\"14.00\">X[0] &lt;= 4.391</text>\n",
       "<text text-anchor=\"middle\" x=\"1617\" y=\"-126.8\" font-family=\"Times,serif\" font-size=\"14.00\">mse = 0.011</text>\n",
       "<text text-anchor=\"middle\" x=\"1617\" y=\"-111.8\" font-family=\"Times,serif\" font-size=\"14.00\">samples = 10</text>\n",
       "<text text-anchor=\"middle\" x=\"1617\" y=\"-96.8\" font-family=\"Times,serif\" font-size=\"14.00\">value = &#45;0.886</text>\n",
       "</g>\n",
       "<!-- 37&#45;&gt;38 -->\n",
       "<g id=\"edge38\" class=\"edge\"><title>37&#45;&gt;38</title>\n",
       "<path fill=\"none\" stroke=\"black\" d=\"M1655.49,-192.884C1650.72,-184.332 1645.51,-175.013 1640.51,-166.072\"/>\n",
       "<polygon fill=\"black\" stroke=\"black\" points=\"1643.54,-164.321 1635.61,-157.299 1637.43,-167.736 1643.54,-164.321\"/>\n",
       "</g>\n",
       "<!-- 41 -->\n",
       "<g id=\"node42\" class=\"node\"><title>41</title>\n",
       "<polygon fill=\"#e58139\" fill-opacity=\"0.478431\" stroke=\"black\" points=\"1780.5,-149.5 1683.5,-149.5 1683.5,-96.5 1780.5,-96.5 1780.5,-149.5\"/>\n",
       "<text text-anchor=\"middle\" x=\"1732\" y=\"-134.3\" font-family=\"Times,serif\" font-size=\"14.00\">mse = &#45;0.0</text>\n",
       "<text text-anchor=\"middle\" x=\"1732\" y=\"-119.3\" font-family=\"Times,serif\" font-size=\"14.00\">samples = 1</text>\n",
       "<text text-anchor=\"middle\" x=\"1732\" y=\"-104.3\" font-family=\"Times,serif\" font-size=\"14.00\">value = &#45;0.208</text>\n",
       "</g>\n",
       "<!-- 37&#45;&gt;41 -->\n",
       "<g id=\"edge41\" class=\"edge\"><title>37&#45;&gt;41</title>\n",
       "<path fill=\"none\" stroke=\"black\" d=\"M1692.83,-192.884C1699.08,-181.886 1706.06,-169.617 1712.37,-158.517\"/>\n",
       "<polygon fill=\"black\" stroke=\"black\" points=\"1715.59,-159.943 1717.49,-149.52 1709.5,-156.483 1715.59,-159.943\"/>\n",
       "</g>\n",
       "<!-- 39 -->\n",
       "<g id=\"node40\" class=\"node\"><title>39</title>\n",
       "<polygon fill=\"#e58139\" fill-opacity=\"0.270588\" stroke=\"black\" points=\"1665.5,-53 1568.5,-53 1568.5,-0 1665.5,-0 1665.5,-53\"/>\n",
       "<text text-anchor=\"middle\" x=\"1617\" y=\"-37.8\" font-family=\"Times,serif\" font-size=\"14.00\">mse = 0.01</text>\n",
       "<text text-anchor=\"middle\" x=\"1617\" y=\"-22.8\" font-family=\"Times,serif\" font-size=\"14.00\">samples = 6</text>\n",
       "<text text-anchor=\"middle\" x=\"1617\" y=\"-7.8\" font-family=\"Times,serif\" font-size=\"14.00\">value = &#45;0.829</text>\n",
       "</g>\n",
       "<!-- 38&#45;&gt;39 -->\n",
       "<g id=\"edge39\" class=\"edge\"><title>38&#45;&gt;39</title>\n",
       "<path fill=\"none\" stroke=\"black\" d=\"M1617,-88.9485C1617,-80.7153 1617,-71.848 1617,-63.4814\"/>\n",
       "<polygon fill=\"black\" stroke=\"black\" points=\"1620.5,-63.2367 1617,-53.2367 1613.5,-63.2367 1620.5,-63.2367\"/>\n",
       "</g>\n",
       "<!-- 40 -->\n",
       "<g id=\"node41\" class=\"node\"><title>40</title>\n",
       "<polygon fill=\"#e58139\" fill-opacity=\"0.223529\" stroke=\"black\" points=\"1780.5,-53 1683.5,-53 1683.5,-0 1780.5,-0 1780.5,-53\"/>\n",
       "<text text-anchor=\"middle\" x=\"1732\" y=\"-37.8\" font-family=\"Times,serif\" font-size=\"14.00\">mse = 0.0</text>\n",
       "<text text-anchor=\"middle\" x=\"1732\" y=\"-22.8\" font-family=\"Times,serif\" font-size=\"14.00\">samples = 4</text>\n",
       "<text text-anchor=\"middle\" x=\"1732\" y=\"-7.8\" font-family=\"Times,serif\" font-size=\"14.00\">value = &#45;0.972</text>\n",
       "</g>\n",
       "<!-- 38&#45;&gt;40 -->\n",
       "<g id=\"edge40\" class=\"edge\"><title>38&#45;&gt;40</title>\n",
       "<path fill=\"none\" stroke=\"black\" d=\"M1657.22,-88.9485C1668.8,-79.4346 1681.41,-69.074 1692.92,-59.6175\"/>\n",
       "<polygon fill=\"black\" stroke=\"black\" points=\"1695.18,-62.2897 1700.68,-53.2367 1690.73,-56.8814 1695.18,-62.2897\"/>\n",
       "</g>\n",
       "<!-- 43 -->\n",
       "<g id=\"node44\" class=\"node\"><title>43</title>\n",
       "<polygon fill=\"#e58139\" fill-opacity=\"0.215686\" stroke=\"black\" points=\"1895.5,-157 1798.5,-157 1798.5,-89 1895.5,-89 1895.5,-157\"/>\n",
       "<text text-anchor=\"middle\" x=\"1847\" y=\"-141.8\" font-family=\"Times,serif\" font-size=\"14.00\">X[0] &lt;= 4.815</text>\n",
       "<text text-anchor=\"middle\" x=\"1847\" y=\"-126.8\" font-family=\"Times,serif\" font-size=\"14.00\">mse = 0.0</text>\n",
       "<text text-anchor=\"middle\" x=\"1847\" y=\"-111.8\" font-family=\"Times,serif\" font-size=\"14.00\">samples = 3</text>\n",
       "<text text-anchor=\"middle\" x=\"1847\" y=\"-96.8\" font-family=\"Times,serif\" font-size=\"14.00\">value = &#45;0.996</text>\n",
       "</g>\n",
       "<!-- 42&#45;&gt;43 -->\n",
       "<g id=\"edge43\" class=\"edge\"><title>42&#45;&gt;43</title>\n",
       "<path fill=\"none\" stroke=\"black\" d=\"M1847,-192.884C1847,-184.778 1847,-175.982 1847,-167.472\"/>\n",
       "<polygon fill=\"black\" stroke=\"black\" points=\"1850.5,-167.299 1847,-157.299 1843.5,-167.299 1850.5,-167.299\"/>\n",
       "</g>\n",
       "<!-- 46 -->\n",
       "<g id=\"node47\" class=\"node\"><title>46</title>\n",
       "<polygon fill=\"#e58139\" fill-opacity=\"0.223529\" stroke=\"black\" points=\"2010.5,-149.5 1913.5,-149.5 1913.5,-96.5 2010.5,-96.5 2010.5,-149.5\"/>\n",
       "<text text-anchor=\"middle\" x=\"1962\" y=\"-134.3\" font-family=\"Times,serif\" font-size=\"14.00\">mse = &#45;0.0</text>\n",
       "<text text-anchor=\"middle\" x=\"1962\" y=\"-119.3\" font-family=\"Times,serif\" font-size=\"14.00\">samples = 1</text>\n",
       "<text text-anchor=\"middle\" x=\"1962\" y=\"-104.3\" font-family=\"Times,serif\" font-size=\"14.00\">value = &#45;0.973</text>\n",
       "</g>\n",
       "<!-- 42&#45;&gt;46 -->\n",
       "<g id=\"edge46\" class=\"edge\"><title>42&#45;&gt;46</title>\n",
       "<path fill=\"none\" stroke=\"black\" d=\"M1884.34,-192.884C1897.6,-181.116 1912.51,-167.894 1925.69,-156.203\"/>\n",
       "<polygon fill=\"black\" stroke=\"black\" points=\"1928.07,-158.774 1933.23,-149.52 1923.42,-153.537 1928.07,-158.774\"/>\n",
       "</g>\n",
       "<!-- 44 -->\n",
       "<g id=\"node45\" class=\"node\"><title>44</title>\n",
       "<polygon fill=\"#e58139\" fill-opacity=\"0.211765\" stroke=\"black\" points=\"1895.5,-53 1798.5,-53 1798.5,-0 1895.5,-0 1895.5,-53\"/>\n",
       "<text text-anchor=\"middle\" x=\"1847\" y=\"-37.8\" font-family=\"Times,serif\" font-size=\"14.00\">mse = 0.0</text>\n",
       "<text text-anchor=\"middle\" x=\"1847\" y=\"-22.8\" font-family=\"Times,serif\" font-size=\"14.00\">samples = 2</text>\n",
       "<text text-anchor=\"middle\" x=\"1847\" y=\"-7.8\" font-family=\"Times,serif\" font-size=\"14.00\">value = &#45;0.998</text>\n",
       "</g>\n",
       "<!-- 43&#45;&gt;44 -->\n",
       "<g id=\"edge44\" class=\"edge\"><title>43&#45;&gt;44</title>\n",
       "<path fill=\"none\" stroke=\"black\" d=\"M1847,-88.9485C1847,-80.7153 1847,-71.848 1847,-63.4814\"/>\n",
       "<polygon fill=\"black\" stroke=\"black\" points=\"1850.5,-63.2367 1847,-53.2367 1843.5,-63.2367 1850.5,-63.2367\"/>\n",
       "</g>\n",
       "<!-- 45 -->\n",
       "<g id=\"node46\" class=\"node\"><title>45</title>\n",
       "<polygon fill=\"#e58139\" fill-opacity=\"0.215686\" stroke=\"black\" points=\"2010.5,-53 1913.5,-53 1913.5,-0 2010.5,-0 2010.5,-53\"/>\n",
       "<text text-anchor=\"middle\" x=\"1962\" y=\"-37.8\" font-family=\"Times,serif\" font-size=\"14.00\">mse = &#45;0.0</text>\n",
       "<text text-anchor=\"middle\" x=\"1962\" y=\"-22.8\" font-family=\"Times,serif\" font-size=\"14.00\">samples = 1</text>\n",
       "<text text-anchor=\"middle\" x=\"1962\" y=\"-7.8\" font-family=\"Times,serif\" font-size=\"14.00\">value = &#45;0.992</text>\n",
       "</g>\n",
       "<!-- 43&#45;&gt;45 -->\n",
       "<g id=\"edge45\" class=\"edge\"><title>43&#45;&gt;45</title>\n",
       "<path fill=\"none\" stroke=\"black\" d=\"M1887.22,-88.9485C1898.8,-79.4346 1911.41,-69.074 1922.92,-59.6175\"/>\n",
       "<polygon fill=\"black\" stroke=\"black\" points=\"1925.18,-62.2897 1930.68,-53.2367 1920.73,-56.8814 1925.18,-62.2897\"/>\n",
       "</g>\n",
       "</g>\n",
       "</svg>\n"
      ],
      "text/plain": [
       "<graphviz.files.Source at 0x7f6161c261d0>"
      ]
     },
     "execution_count": 32,
     "metadata": {},
     "output_type": "execute_result"
    }
   ],
   "source": [
    "dot_data = tree.export_graphviz(regr_2, out_file=None,\n",
    "                                filled=True)\n",
    "graph = graphviz.Source(dot_data)\n",
    "graph"
   ]
  },
  {
   "cell_type": "markdown",
   "metadata": {},
   "source": [
    "## Regularization"
   ]
  },
  {
   "cell_type": "code",
   "execution_count": 33,
   "metadata": {},
   "outputs": [
    {
     "data": {
      "image/png": "[encoded data removed]",
      "text/plain": [
       "<matplotlib.figure.Figure at 0x7f6161a892e8>"
      ]
     },
     "metadata": {},
     "output_type": "display_data"
    }
   ],
   "source": [
    "# Import the necessary modules and libraries\n",
    "import numpy as np\n",
    "from sklearn.tree import DecisionTreeRegressor\n",
    "import matplotlib.pyplot as plt\n",
    "\n",
    "# Create a random dataset\n",
    "rng = np.random.RandomState(1)\n",
    "X = np.sort(5 * rng.rand(80, 1), axis=0)\n",
    "y = np.sin(X).ravel()\n",
    "y[::5] += 3 * (0.5 - rng.rand(16))\n",
    "\n",
    "# Fit regression model\n",
    "regr_1 = DecisionTreeRegressor(max_depth=2)\n",
    "regr_2 = DecisionTreeRegressor(max_depth=5, min_samples_leaf=10)\n",
    "regr_1.fit(X, y)\n",
    "regr_2.fit(X, y)\n",
    "\n",
    "# Predict\n",
    "X_test = np.arange(0.0, 5.0, 0.01)[:, np.newaxis]\n",
    "y_1 = regr_1.predict(X_test)\n",
    "y_2 = regr_2.predict(X_test)\n",
    "\n",
    "# Plot the results\n",
    "plt.figure(figsize=(10,8))\n",
    "plt.scatter(X, y, s=20, edgecolor=\"black\",\n",
    "            c=\"darkorange\", label=\"data\")\n",
    "plt.plot(X_test, y_1, color=\"cornflowerblue\",\n",
    "         label=\"max_depth=2\", linewidth=2)\n",
    "plt.plot(X_test, y_2, color=\"yellowgreen\", label=\"max_depth=5\", linewidth=2)\n",
    "plt.xlabel(\"data\")\n",
    "plt.ylabel(\"target\")\n",
    "plt.title(\"Decision Tree Regression\")\n",
    "plt.legend()\n",
    "plt.show()"
   ]
  },
  {
   "cell_type": "code",
   "execution_count": 34,
   "metadata": {},
   "outputs": [
    {
     "data": {
      "image/svg+xml": [
       "<?xml version=\"1.0\" encoding=\"UTF-8\" standalone=\"no\"?>\n",
       "<!DOCTYPE svg PUBLIC \"-//W3C//DTD SVG 1.1//EN\"\n",
       " \"http://www.w3.org/Graphics/SVG/1.1/DTD/svg11.dtd\">\n",
       "<!-- Generated by graphviz version 2.38.0 (20140413.2041)\n",
       " -->\n",
       "<!-- Title: Tree Pages: 1 -->\n",
       "<svg width=\"446pt\" height=\"477pt\"\n",
       " viewBox=\"0.00 0.00 445.50 477.00\" xmlns=\"http://www.w3.org/2000/svg\" xmlns:xlink=\"http://www.w3.org/1999/xlink\">\n",
       "<g id=\"graph0\" class=\"graph\" transform=\"scale(1 1) rotate(0) translate(4 473)\">\n",
       "<title>Tree</title>\n",
       "<polygon fill=\"white\" stroke=\"none\" points=\"-4,4 -4,-473 441.5,-473 441.5,4 -4,4\"/>\n",
       "<!-- 0 -->\n",
       "<g id=\"node1\" class=\"node\"><title>0</title>\n",
       "<polygon fill=\"#e58139\" fill-opacity=\"0.564706\" stroke=\"black\" points=\"264.5,-469 167.5,-469 167.5,-401 264.5,-401 264.5,-469\"/>\n",
       "<text text-anchor=\"middle\" x=\"216\" y=\"-453.8\" font-family=\"Times,serif\" font-size=\"14.00\">X[0] &lt;= 3.133</text>\n",
       "<text text-anchor=\"middle\" x=\"216\" y=\"-438.8\" font-family=\"Times,serif\" font-size=\"14.00\">mse = 0.547</text>\n",
       "<text text-anchor=\"middle\" x=\"216\" y=\"-423.8\" font-family=\"Times,serif\" font-size=\"14.00\">samples = 80</text>\n",
       "<text text-anchor=\"middle\" x=\"216\" y=\"-408.8\" font-family=\"Times,serif\" font-size=\"14.00\">value = 0.122</text>\n",
       "</g>\n",
       "<!-- 1 -->\n",
       "<g id=\"node2\" class=\"node\"><title>1</title>\n",
       "<polygon fill=\"#e58139\" fill-opacity=\"0.823529\" stroke=\"black\" points=\"207.5,-365 110.5,-365 110.5,-297 207.5,-297 207.5,-365\"/>\n",
       "<text text-anchor=\"middle\" x=\"159\" y=\"-349.8\" font-family=\"Times,serif\" font-size=\"14.00\">X[0] &lt;= 0.514</text>\n",
       "<text text-anchor=\"middle\" x=\"159\" y=\"-334.8\" font-family=\"Times,serif\" font-size=\"14.00\">mse = 0.231</text>\n",
       "<text text-anchor=\"middle\" x=\"159\" y=\"-319.8\" font-family=\"Times,serif\" font-size=\"14.00\">samples = 51</text>\n",
       "<text text-anchor=\"middle\" x=\"159\" y=\"-304.8\" font-family=\"Times,serif\" font-size=\"14.00\">value = 0.571</text>\n",
       "</g>\n",
       "<!-- 0&#45;&gt;1 -->\n",
       "<g id=\"edge1\" class=\"edge\"><title>0&#45;&gt;1</title>\n",
       "<path fill=\"none\" stroke=\"black\" d=\"M197.494,-400.884C192.715,-392.332 187.507,-383.013 182.511,-374.072\"/>\n",
       "<polygon fill=\"black\" stroke=\"black\" points=\"185.542,-372.321 177.608,-365.299 179.431,-375.736 185.542,-372.321\"/>\n",
       "<text text-anchor=\"middle\" x=\"170.8\" y=\"-385.655\" font-family=\"Times,serif\" font-size=\"14.00\">True</text>\n",
       "</g>\n",
       "<!-- 8 -->\n",
       "<g id=\"node9\" class=\"node\"><title>8</title>\n",
       "<polygon fill=\"#e58139\" fill-opacity=\"0.113725\" stroke=\"black\" points=\"322.5,-365 225.5,-365 225.5,-297 322.5,-297 322.5,-365\"/>\n",
       "<text text-anchor=\"middle\" x=\"274\" y=\"-349.8\" font-family=\"Times,serif\" font-size=\"14.00\">X[0] &lt;= 3.85</text>\n",
       "<text text-anchor=\"middle\" x=\"274\" y=\"-334.8\" font-family=\"Times,serif\" font-size=\"14.00\">mse = 0.124</text>\n",
       "<text text-anchor=\"middle\" x=\"274\" y=\"-319.8\" font-family=\"Times,serif\" font-size=\"14.00\">samples = 29</text>\n",
       "<text text-anchor=\"middle\" x=\"274\" y=\"-304.8\" font-family=\"Times,serif\" font-size=\"14.00\">value = &#45;0.667</text>\n",
       "</g>\n",
       "<!-- 0&#45;&gt;8 -->\n",
       "<g id=\"edge8\" class=\"edge\"><title>0&#45;&gt;8</title>\n",
       "<path fill=\"none\" stroke=\"black\" d=\"M234.831,-400.884C239.693,-392.332 244.992,-383.013 250.077,-374.072\"/>\n",
       "<polygon fill=\"black\" stroke=\"black\" points=\"253.165,-375.722 255.065,-365.299 247.079,-372.262 253.165,-375.722\"/>\n",
       "<text text-anchor=\"middle\" x=\"261.694\" y=\"-385.704\" font-family=\"Times,serif\" font-size=\"14.00\">False</text>\n",
       "</g>\n",
       "<!-- 2 -->\n",
       "<g id=\"node3\" class=\"node\"><title>2</title>\n",
       "<polygon fill=\"#e58139\" fill-opacity=\"0.525490\" stroke=\"black\" points=\"92,-253.5 0,-253.5 0,-200.5 92,-200.5 92,-253.5\"/>\n",
       "<text text-anchor=\"middle\" x=\"46\" y=\"-238.3\" font-family=\"Times,serif\" font-size=\"14.00\">mse = 0.192</text>\n",
       "<text text-anchor=\"middle\" x=\"46\" y=\"-223.3\" font-family=\"Times,serif\" font-size=\"14.00\">samples = 11</text>\n",
       "<text text-anchor=\"middle\" x=\"46\" y=\"-208.3\" font-family=\"Times,serif\" font-size=\"14.00\">value = 0.052</text>\n",
       "</g>\n",
       "<!-- 1&#45;&gt;2 -->\n",
       "<g id=\"edge2\" class=\"edge\"><title>1&#45;&gt;2</title>\n",
       "<path fill=\"none\" stroke=\"black\" d=\"M122.312,-296.884C109.397,-285.226 94.9009,-272.141 82.0398,-260.532\"/>\n",
       "<polygon fill=\"black\" stroke=\"black\" points=\"84.0404,-257.622 74.2721,-253.52 79.35,-262.819 84.0404,-257.622\"/>\n",
       "</g>\n",
       "<!-- 3 -->\n",
       "<g id=\"node4\" class=\"node\"><title>3</title>\n",
       "<polygon fill=\"#e58139\" fill-opacity=\"0.905882\" stroke=\"black\" points=\"207.5,-261 110.5,-261 110.5,-193 207.5,-193 207.5,-261\"/>\n",
       "<text text-anchor=\"middle\" x=\"159\" y=\"-245.8\" font-family=\"Times,serif\" font-size=\"14.00\">X[0] &lt;= 2.029</text>\n",
       "<text text-anchor=\"middle\" x=\"159\" y=\"-230.8\" font-family=\"Times,serif\" font-size=\"14.00\">mse = 0.148</text>\n",
       "<text text-anchor=\"middle\" x=\"159\" y=\"-215.8\" font-family=\"Times,serif\" font-size=\"14.00\">samples = 40</text>\n",
       "<text text-anchor=\"middle\" x=\"159\" y=\"-200.8\" font-family=\"Times,serif\" font-size=\"14.00\">value = 0.714</text>\n",
       "</g>\n",
       "<!-- 1&#45;&gt;3 -->\n",
       "<g id=\"edge3\" class=\"edge\"><title>1&#45;&gt;3</title>\n",
       "<path fill=\"none\" stroke=\"black\" d=\"M159,-296.884C159,-288.778 159,-279.982 159,-271.472\"/>\n",
       "<polygon fill=\"black\" stroke=\"black\" points=\"162.5,-271.299 159,-261.299 155.5,-271.299 162.5,-271.299\"/>\n",
       "</g>\n",
       "<!-- 4 -->\n",
       "<g id=\"node5\" class=\"node\"><title>4</title>\n",
       "<polygon fill=\"#e58139\" fill-opacity=\"0.976471\" stroke=\"black\" points=\"150.5,-157 53.5,-157 53.5,-89 150.5,-89 150.5,-157\"/>\n",
       "<text text-anchor=\"middle\" x=\"102\" y=\"-141.8\" font-family=\"Times,serif\" font-size=\"14.00\">X[0] &lt;= 0.961</text>\n",
       "<text text-anchor=\"middle\" x=\"102\" y=\"-126.8\" font-family=\"Times,serif\" font-size=\"14.00\">mse = 0.093</text>\n",
       "<text text-anchor=\"middle\" x=\"102\" y=\"-111.8\" font-family=\"Times,serif\" font-size=\"14.00\">samples = 24</text>\n",
       "<text text-anchor=\"middle\" x=\"102\" y=\"-96.8\" font-family=\"Times,serif\" font-size=\"14.00\">value = 0.839</text>\n",
       "</g>\n",
       "<!-- 3&#45;&gt;4 -->\n",
       "<g id=\"edge4\" class=\"edge\"><title>3&#45;&gt;4</title>\n",
       "<path fill=\"none\" stroke=\"black\" d=\"M140.494,-192.884C135.715,-184.332 130.507,-175.013 125.511,-166.072\"/>\n",
       "<polygon fill=\"black\" stroke=\"black\" points=\"128.542,-164.321 120.608,-157.299 122.431,-167.736 128.542,-164.321\"/>\n",
       "</g>\n",
       "<!-- 7 -->\n",
       "<g id=\"node8\" class=\"node\"><title>7</title>\n",
       "<polygon fill=\"#e58139\" fill-opacity=\"0.796078\" stroke=\"black\" points=\"261,-149.5 169,-149.5 169,-96.5 261,-96.5 261,-149.5\"/>\n",
       "<text text-anchor=\"middle\" x=\"215\" y=\"-134.3\" font-family=\"Times,serif\" font-size=\"14.00\">mse = 0.172</text>\n",
       "<text text-anchor=\"middle\" x=\"215\" y=\"-119.3\" font-family=\"Times,serif\" font-size=\"14.00\">samples = 16</text>\n",
       "<text text-anchor=\"middle\" x=\"215\" y=\"-104.3\" font-family=\"Times,serif\" font-size=\"14.00\">value = 0.527</text>\n",
       "</g>\n",
       "<!-- 3&#45;&gt;7 -->\n",
       "<g id=\"edge7\" class=\"edge\"><title>3&#45;&gt;7</title>\n",
       "<path fill=\"none\" stroke=\"black\" d=\"M177.182,-192.884C183.22,-181.886 189.955,-169.617 196.05,-158.517\"/>\n",
       "<polygon fill=\"black\" stroke=\"black\" points=\"199.244,-159.97 200.989,-149.52 193.108,-156.601 199.244,-159.97\"/>\n",
       "</g>\n",
       "<!-- 5 -->\n",
       "<g id=\"node6\" class=\"node\"><title>5</title>\n",
       "<polygon fill=\"#e58139\" fill-opacity=\"0.941176\" stroke=\"black\" points=\"93,-53 1,-53 1,-0 93,-0 93,-53\"/>\n",
       "<text text-anchor=\"middle\" x=\"47\" y=\"-37.8\" font-family=\"Times,serif\" font-size=\"14.00\">mse = 0.079</text>\n",
       "<text text-anchor=\"middle\" x=\"47\" y=\"-22.8\" font-family=\"Times,serif\" font-size=\"14.00\">samples = 10</text>\n",
       "<text text-anchor=\"middle\" x=\"47\" y=\"-7.8\" font-family=\"Times,serif\" font-size=\"14.00\">value = 0.779</text>\n",
       "</g>\n",
       "<!-- 4&#45;&gt;5 -->\n",
       "<g id=\"edge5\" class=\"edge\"><title>4&#45;&gt;5</title>\n",
       "<path fill=\"none\" stroke=\"black\" d=\"M82.7637,-88.9485C77.7056,-80.2579 72.2365,-70.8608 67.1328,-62.0917\"/>\n",
       "<polygon fill=\"black\" stroke=\"black\" points=\"70.0342,-60.1189 61.979,-53.2367 63.9843,-63.6401 70.0342,-60.1189\"/>\n",
       "</g>\n",
       "<!-- 6 -->\n",
       "<g id=\"node7\" class=\"node\"><title>6</title>\n",
       "<polygon fill=\"#e58139\" stroke=\"black\" points=\"203,-53 111,-53 111,-0 203,-0 203,-53\"/>\n",
       "<text text-anchor=\"middle\" x=\"157\" y=\"-37.8\" font-family=\"Times,serif\" font-size=\"14.00\">mse = 0.098</text>\n",
       "<text text-anchor=\"middle\" x=\"157\" y=\"-22.8\" font-family=\"Times,serif\" font-size=\"14.00\">samples = 14</text>\n",
       "<text text-anchor=\"middle\" x=\"157\" y=\"-7.8\" font-family=\"Times,serif\" font-size=\"14.00\">value = 0.881</text>\n",
       "</g>\n",
       "<!-- 4&#45;&gt;6 -->\n",
       "<g id=\"edge6\" class=\"edge\"><title>4&#45;&gt;6</title>\n",
       "<path fill=\"none\" stroke=\"black\" d=\"M121.236,-88.9485C126.294,-80.2579 131.764,-70.8608 136.867,-62.0917\"/>\n",
       "<polygon fill=\"black\" stroke=\"black\" points=\"140.016,-63.6401 142.021,-53.2367 133.966,-60.1189 140.016,-63.6401\"/>\n",
       "</g>\n",
       "<!-- 9 -->\n",
       "<g id=\"node10\" class=\"node\"><title>9</title>\n",
       "<polygon fill=\"#e58139\" fill-opacity=\"0.239216\" stroke=\"black\" points=\"322.5,-253.5 225.5,-253.5 225.5,-200.5 322.5,-200.5 322.5,-253.5\"/>\n",
       "<text text-anchor=\"middle\" x=\"274\" y=\"-238.3\" font-family=\"Times,serif\" font-size=\"14.00\">mse = 0.124</text>\n",
       "<text text-anchor=\"middle\" x=\"274\" y=\"-223.3\" font-family=\"Times,serif\" font-size=\"14.00\">samples = 14</text>\n",
       "<text text-anchor=\"middle\" x=\"274\" y=\"-208.3\" font-family=\"Times,serif\" font-size=\"14.00\">value = &#45;0.452</text>\n",
       "</g>\n",
       "<!-- 8&#45;&gt;9 -->\n",
       "<g id=\"edge9\" class=\"edge\"><title>8&#45;&gt;9</title>\n",
       "<path fill=\"none\" stroke=\"black\" d=\"M274,-296.884C274,-286.326 274,-274.597 274,-263.854\"/>\n",
       "<polygon fill=\"black\" stroke=\"black\" points=\"277.5,-263.52 274,-253.52 270.5,-263.52 277.5,-263.52\"/>\n",
       "</g>\n",
       "<!-- 10 -->\n",
       "<g id=\"node11\" class=\"node\"><title>10</title>\n",
       "<polygon fill=\"none\" stroke=\"black\" points=\"437.5,-253.5 340.5,-253.5 340.5,-200.5 437.5,-200.5 437.5,-253.5\"/>\n",
       "<text text-anchor=\"middle\" x=\"389\" y=\"-238.3\" font-family=\"Times,serif\" font-size=\"14.00\">mse = 0.041</text>\n",
       "<text text-anchor=\"middle\" x=\"389\" y=\"-223.3\" font-family=\"Times,serif\" font-size=\"14.00\">samples = 15</text>\n",
       "<text text-anchor=\"middle\" x=\"389\" y=\"-208.3\" font-family=\"Times,serif\" font-size=\"14.00\">value = &#45;0.869</text>\n",
       "</g>\n",
       "<!-- 8&#45;&gt;10 -->\n",
       "<g id=\"edge10\" class=\"edge\"><title>8&#45;&gt;10</title>\n",
       "<path fill=\"none\" stroke=\"black\" d=\"M311.337,-296.884C324.605,-285.116 339.512,-271.894 352.692,-260.203\"/>\n",
       "<polygon fill=\"black\" stroke=\"black\" points=\"355.069,-262.774 360.228,-253.52 350.424,-257.537 355.069,-262.774\"/>\n",
       "</g>\n",
       "</g>\n",
       "</svg>\n"
      ],
      "text/plain": [
       "<graphviz.files.Source at 0x7f6161d40da0>"
      ]
     },
     "execution_count": 34,
     "metadata": {},
     "output_type": "execute_result"
    }
   ],
   "source": [
    "dot_data = tree.export_graphviz(regr_2, out_file=None,\n",
    "                                filled=True)\n",
    "graph = graphviz.Source(dot_data)\n",
    "graph"
   ]
  },
  {
   "cell_type": "code",
   "execution_count": null,
   "metadata": {
    "collapsed": true
   },
   "outputs": [],
   "source": []
  },
  {
   "cell_type": "code",
   "execution_count": null,
   "metadata": {
    "collapsed": true
   },
   "outputs": [],
   "source": []
  },
  {
   "cell_type": "code",
   "execution_count": null,
   "metadata": {
    "collapsed": true
   },
   "outputs": [],
   "source": []
  },
  {
   "cell_type": "code",
   "execution_count": null,
   "metadata": {
    "collapsed": true
   },
   "outputs": [],
   "source": []
  },
  {
   "cell_type": "code",
   "execution_count": null,
   "metadata": {
    "collapsed": true
   },
   "outputs": [],
   "source": []
  },
  {
   "cell_type": "code",
   "execution_count": null,
   "metadata": {
    "collapsed": true
   },
   "outputs": [],
   "source": []
  },
  {
   "cell_type": "code",
   "execution_count": null,
   "metadata": {
    "collapsed": true
   },
   "outputs": [],
   "source": []
  }
 ],
 "metadata": {
  "kernelspec": {
   "display_name": "Python 3",
   "language": "python",
   "name": "python3"
  },
  "language_info": {
   "codemirror_mode": {
    "name": "ipython",
    "version": 3
   },
   "file_extension": ".py",
   "mimetype": "text/x-python",
   "name": "python",
   "nbconvert_exporter": "python",
   "pygments_lexer": "ipython3",
   "version": "3.6.3"
  }
 },
 "nbformat": 4,
 "nbformat_minor": 2
}
