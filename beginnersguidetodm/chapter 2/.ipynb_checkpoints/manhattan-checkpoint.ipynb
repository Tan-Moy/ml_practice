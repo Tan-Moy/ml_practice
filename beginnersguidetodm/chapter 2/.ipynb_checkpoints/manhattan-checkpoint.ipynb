{
 "cells": [
  {
   "cell_type": "code",
   "execution_count": 1,
   "metadata": {
    "collapsed": true
   },
   "outputs": [],
   "source": [
    "import numpy as np\n",
    "import pandas as pd"
   ]
  },
  {
   "cell_type": "code",
   "execution_count": 2,
   "metadata": {
    "collapsed": true
   },
   "outputs": [],
   "source": [
    "users = {\"Angelica\": {\"Blues Traveler\": 3.5, \"Broken Bells\": 2.0,\n",
    "                      \"Norah Jones\": 4.5, \"Phoenix\": 5.0,\n",
    "                      \"Slightly Stoopid\": 1.5,\n",
    "                      \"The Strokes\": 2.5, \"Vampire Weekend\": 2.0},\n",
    "\n",
    "         \"Bill\": {\"Blues Traveler\": 2.0, \"Broken Bells\": 3.5,\n",
    "                  \"Deadmau5\": 4.0, \"Phoenix\": 2.0,\n",
    "                  \"Slightly Stoopid\": 3.5, \"Vampire Weekend\": 3.0},\n",
    "\n",
    "         \"Chan\": {\"Blues Traveler\": 5.0, \"Broken Bells\": 1.0,\n",
    "                  \"Deadmau5\": 1.0, \"Norah Jones\": 3.0, \"Phoenix\": 5,\n",
    "                  \"Slightly Stoopid\": 1.0},\n",
    "\n",
    "         \"Dan\": {\"Blues Traveler\": 3.0, \"Broken Bells\": 4.0,\n",
    "                 \"Deadmau5\": 4.5, \"Phoenix\": 3.0,\n",
    "                 \"Slightly Stoopid\": 4.5, \"The Strokes\": 4.0,\n",
    "                 \"Vampire Weekend\": 2.0},\n",
    "\n",
    "         \"Hailey\": {\"Broken Bells\": 4.0, \"Deadmau5\": 1.0,\n",
    "                    \"Norah Jones\": 4.0, \"The Strokes\": 4.0,\n",
    "                    \"Vampire Weekend\": 1.0},\n",
    "\n",
    "         \"Jordyn\":  {\"Broken Bells\": 4.5, \"Deadmau5\": 4.0,\n",
    "                     \"Norah Jones\": 5.0, \"Phoenix\": 5.0,\n",
    "                     \"Slightly Stoopid\": 4.5, \"The Strokes\": 4.0,\n",
    "                     \"Vampire Weekend\": 4.0},\n",
    "\n",
    "         \"Sam\": {\"Blues Traveler\": 5.0, \"Broken Bells\": 2.0,\n",
    "                 \"Norah Jones\": 3.0, \"Phoenix\": 5.0,\n",
    "                 \"Slightly Stoopid\": 4.0, \"The Strokes\": 5.0},\n",
    "\n",
    "         \"Veronica\": {\"Blues Traveler\": 3.0, \"Norah Jones\": 5.0,\n",
    "                      \"Phoenix\": 4.0, \"Slightly Stoopid\": 2.5,\n",
    "                      \"The Strokes\": 3.0}\n",
    "         }\n",
    "\n",
    "\n",
    "\n"
   ]
  },
  {
   "cell_type": "code",
   "execution_count": 3,
   "metadata": {},
   "outputs": [
    {
     "data": {
      "text/html": [
       "<div>\n",
       "<style>\n",
       "    .dataframe thead tr:only-child th {\n",
       "        text-align: right;\n",
       "    }\n",
       "\n",
       "    .dataframe thead th {\n",
       "        text-align: left;\n",
       "    }\n",
       "\n",
       "    .dataframe tbody tr th {\n",
       "        vertical-align: top;\n",
       "    }\n",
       "</style>\n",
       "<table border=\"1\" class=\"dataframe\">\n",
       "  <thead>\n",
       "    <tr style=\"text-align: right;\">\n",
       "      <th></th>\n",
       "      <th>Angelica</th>\n",
       "      <th>Bill</th>\n",
       "      <th>Chan</th>\n",
       "      <th>Dan</th>\n",
       "      <th>Hailey</th>\n",
       "      <th>Jordyn</th>\n",
       "      <th>Sam</th>\n",
       "      <th>Veronica</th>\n",
       "    </tr>\n",
       "  </thead>\n",
       "  <tbody>\n",
       "    <tr>\n",
       "      <th>Blues Traveler</th>\n",
       "      <td>3.5</td>\n",
       "      <td>2.0</td>\n",
       "      <td>5.0</td>\n",
       "      <td>3.0</td>\n",
       "      <td>NaN</td>\n",
       "      <td>NaN</td>\n",
       "      <td>5.0</td>\n",
       "      <td>3.0</td>\n",
       "    </tr>\n",
       "    <tr>\n",
       "      <th>Broken Bells</th>\n",
       "      <td>2.0</td>\n",
       "      <td>3.5</td>\n",
       "      <td>1.0</td>\n",
       "      <td>4.0</td>\n",
       "      <td>4.0</td>\n",
       "      <td>4.5</td>\n",
       "      <td>2.0</td>\n",
       "      <td>NaN</td>\n",
       "    </tr>\n",
       "    <tr>\n",
       "      <th>Deadmau5</th>\n",
       "      <td>NaN</td>\n",
       "      <td>4.0</td>\n",
       "      <td>1.0</td>\n",
       "      <td>4.5</td>\n",
       "      <td>1.0</td>\n",
       "      <td>4.0</td>\n",
       "      <td>NaN</td>\n",
       "      <td>NaN</td>\n",
       "    </tr>\n",
       "    <tr>\n",
       "      <th>Norah Jones</th>\n",
       "      <td>4.5</td>\n",
       "      <td>NaN</td>\n",
       "      <td>3.0</td>\n",
       "      <td>NaN</td>\n",
       "      <td>4.0</td>\n",
       "      <td>5.0</td>\n",
       "      <td>3.0</td>\n",
       "      <td>5.0</td>\n",
       "    </tr>\n",
       "    <tr>\n",
       "      <th>Phoenix</th>\n",
       "      <td>5.0</td>\n",
       "      <td>2.0</td>\n",
       "      <td>5.0</td>\n",
       "      <td>3.0</td>\n",
       "      <td>NaN</td>\n",
       "      <td>5.0</td>\n",
       "      <td>5.0</td>\n",
       "      <td>4.0</td>\n",
       "    </tr>\n",
       "  </tbody>\n",
       "</table>\n",
       "</div>"
      ],
      "text/plain": [
       "                Angelica  Bill  Chan  Dan  Hailey  Jordyn  Sam  Veronica\n",
       "Blues Traveler       3.5   2.0   5.0  3.0     NaN     NaN  5.0       3.0\n",
       "Broken Bells         2.0   3.5   1.0  4.0     4.0     4.5  2.0       NaN\n",
       "Deadmau5             NaN   4.0   1.0  4.5     1.0     4.0  NaN       NaN\n",
       "Norah Jones          4.5   NaN   3.0  NaN     4.0     5.0  3.0       5.0\n",
       "Phoenix              5.0   2.0   5.0  3.0     NaN     5.0  5.0       4.0"
      ]
     },
     "execution_count": 3,
     "metadata": {},
     "output_type": "execute_result"
    }
   ],
   "source": [
    "data = pd.DataFrame(users)\n",
    "data.head()"
   ]
  },
  {
   "cell_type": "code",
   "execution_count": 8,
   "metadata": {},
   "outputs": [
    {
     "data": {
      "text/html": [
       "<div>\n",
       "<style>\n",
       "    .dataframe thead tr:only-child th {\n",
       "        text-align: right;\n",
       "    }\n",
       "\n",
       "    .dataframe thead th {\n",
       "        text-align: left;\n",
       "    }\n",
       "\n",
       "    .dataframe tbody tr th {\n",
       "        vertical-align: top;\n",
       "    }\n",
       "</style>\n",
       "<table border=\"1\" class=\"dataframe\">\n",
       "  <thead>\n",
       "    <tr style=\"text-align: right;\">\n",
       "      <th></th>\n",
       "      <th>Angelica</th>\n",
       "      <th>Bill</th>\n",
       "      <th>Chan</th>\n",
       "      <th>Dan</th>\n",
       "      <th>Hailey</th>\n",
       "      <th>Jordyn</th>\n",
       "      <th>Sam</th>\n",
       "      <th>Veronica</th>\n",
       "    </tr>\n",
       "  </thead>\n",
       "  <tbody>\n",
       "    <tr>\n",
       "      <th>Blues Traveler</th>\n",
       "      <td>3.5</td>\n",
       "      <td>2.0</td>\n",
       "      <td>5.0</td>\n",
       "      <td>3.0</td>\n",
       "      <td>0.0</td>\n",
       "      <td>0.0</td>\n",
       "      <td>5.0</td>\n",
       "      <td>3.0</td>\n",
       "    </tr>\n",
       "    <tr>\n",
       "      <th>Broken Bells</th>\n",
       "      <td>2.0</td>\n",
       "      <td>3.5</td>\n",
       "      <td>1.0</td>\n",
       "      <td>4.0</td>\n",
       "      <td>4.0</td>\n",
       "      <td>4.5</td>\n",
       "      <td>2.0</td>\n",
       "      <td>0.0</td>\n",
       "    </tr>\n",
       "    <tr>\n",
       "      <th>Deadmau5</th>\n",
       "      <td>0.0</td>\n",
       "      <td>4.0</td>\n",
       "      <td>1.0</td>\n",
       "      <td>4.5</td>\n",
       "      <td>1.0</td>\n",
       "      <td>4.0</td>\n",
       "      <td>0.0</td>\n",
       "      <td>0.0</td>\n",
       "    </tr>\n",
       "    <tr>\n",
       "      <th>Norah Jones</th>\n",
       "      <td>4.5</td>\n",
       "      <td>0.0</td>\n",
       "      <td>3.0</td>\n",
       "      <td>0.0</td>\n",
       "      <td>4.0</td>\n",
       "      <td>5.0</td>\n",
       "      <td>3.0</td>\n",
       "      <td>5.0</td>\n",
       "    </tr>\n",
       "    <tr>\n",
       "      <th>Phoenix</th>\n",
       "      <td>5.0</td>\n",
       "      <td>2.0</td>\n",
       "      <td>5.0</td>\n",
       "      <td>3.0</td>\n",
       "      <td>0.0</td>\n",
       "      <td>5.0</td>\n",
       "      <td>5.0</td>\n",
       "      <td>4.0</td>\n",
       "    </tr>\n",
       "  </tbody>\n",
       "</table>\n",
       "</div>"
      ],
      "text/plain": [
       "                Angelica  Bill  Chan  Dan  Hailey  Jordyn  Sam  Veronica\n",
       "Blues Traveler       3.5   2.0   5.0  3.0     0.0     0.0  5.0       3.0\n",
       "Broken Bells         2.0   3.5   1.0  4.0     4.0     4.5  2.0       0.0\n",
       "Deadmau5             0.0   4.0   1.0  4.5     1.0     4.0  0.0       0.0\n",
       "Norah Jones          4.5   0.0   3.0  0.0     4.0     5.0  3.0       5.0\n",
       "Phoenix              5.0   2.0   5.0  3.0     0.0     5.0  5.0       4.0"
      ]
     },
     "execution_count": 8,
     "metadata": {},
     "output_type": "execute_result"
    }
   ],
   "source": [
    "data.fillna(0,inplace=True)\n",
    "data.head()"
   ]
  },
  {
   "cell_type": "code",
   "execution_count": 12,
   "metadata": {},
   "outputs": [
    {
     "data": {
      "text/plain": [
       "17.0"
      ]
     },
     "execution_count": 12,
     "metadata": {},
     "output_type": "execute_result"
    }
   ],
   "source": []
  },
  {
   "cell_type": "code",
   "execution_count": 17,
   "metadata": {
    "collapsed": true
   },
   "outputs": [],
   "source": [
    "# calculating user distance\n",
    "def manhattan(user1,user2):\n",
    "    mDistance = np.absolute(np.sum(data[user1] - data[user2]))\n",
    "    return mDistance"
   ]
  },
  {
   "cell_type": "code",
   "execution_count": 18,
   "metadata": {},
   "outputs": [
    {
     "data": {
      "text/plain": [
       "3.0"
      ]
     },
     "execution_count": 18,
     "metadata": {},
     "output_type": "execute_result"
    }
   ],
   "source": [
    "manhattan('Angelica','Bill')"
   ]
  },
  {
   "cell_type": "code",
   "execution_count": 33,
   "metadata": {
    "collapsed": true
   },
   "outputs": [],
   "source": [
    "# function to sort and return\n",
    "def computeNearestDistance(username):\n",
    "    distance = []\n",
    "    for user in data.columns:\n",
    "        if user != username:\n",
    "            distance.append(manhattan(username,user))\n",
    "    return distance"
   ]
  },
  {
   "cell_type": "code",
   "execution_count": 34,
   "metadata": {},
   "outputs": [
    {
     "data": {
      "text/plain": [
       "[0.0, 3.0, 5.0, 4.0, 7.0, 10.0, 3.0, 3.5]"
      ]
     },
     "execution_count": 34,
     "metadata": {},
     "output_type": "execute_result"
    }
   ],
   "source": [
    "computeNearestDistance('Angelica')"
   ]
  },
  {
   "cell_type": "code",
   "execution_count": null,
   "metadata": {
    "collapsed": true
   },
   "outputs": [],
   "source": []
  }
 ],
 "metadata": {
  "kernelspec": {
   "display_name": "Python 3",
   "language": "python",
   "name": "python3"
  },
  "language_info": {
   "codemirror_mode": {
    "name": "ipython",
    "version": 3
   },
   "file_extension": ".py",
   "mimetype": "text/x-python",
   "name": "python",
   "nbconvert_exporter": "python",
   "pygments_lexer": "ipython3",
   "version": "3.6.3"
  }
 },
 "nbformat": 4,
 "nbformat_minor": 2
}
