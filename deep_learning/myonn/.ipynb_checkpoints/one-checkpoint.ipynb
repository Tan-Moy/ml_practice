{
 "cells": [
  {
   "cell_type": "code",
   "execution_count": 24,
   "metadata": {
    "collapsed": true
   },
   "outputs": [],
   "source": [
    "import numpy as np\n",
    "import matplotlib.pyplot as plt\n",
    "import pandas as pd\n",
    "import scipy.special as sp"
   ]
  },
  {
   "cell_type": "code",
   "execution_count": 45,
   "metadata": {},
   "outputs": [],
   "source": [
    "# neural network class defination\n",
    "class neuralNetwork:\n",
    "    # intialize the nn\n",
    "    def __init__(self,inputnodes,hiddennodes,outputnodes,learningrate):\n",
    "        # set number of nodes in each input, hidden, output layer\n",
    "        self.inodes = inputnodes\n",
    "        self.hnodes = hiddennodes\n",
    "        self.onodes = outputnodes\n",
    "        self.wih = (np.random.rand(self.hnodes,self.inodes) - 0.5)\n",
    "        self.who = (np.random.rand(self.onodes,self.hnodes) - 0.5)\n",
    "        \n",
    "        #activation function\n",
    "        self.sigmoid = lambda x: sp.expit(x)\n",
    "        \n",
    "        # learning rate\n",
    "        self.lr = learningrate\n",
    "        pass\n",
    "    \n",
    "    #train the nn\n",
    "    def train(self,inputs_list,targets_list):\n",
    "        #convert inputs_list to 2d array\n",
    "        inputs = np.array(inputs_list,ndmin = 2).T\n",
    "        targets = np.array(targets_list,ndmin = 2).T \n",
    "        # signals into hidden layer\n",
    "        hidden_inputs = np.dot(self.wih, inputs)\n",
    "        # signals emerging from the hidden layer\n",
    "        hidden_ouptuts = self.sigmoid(hidden_inputs)\n",
    "        # signals from hidden layer to output layer\n",
    "        final_inputs = np.dot(self.who,hidden_ouptuts)\n",
    "        # signal emerging from the output layer\n",
    "        final_outputs = self.sigmoid(final_inputs)\n",
    "        \n",
    "        #error is (target - output)\n",
    "        output_errors = targets - final_outputs\n",
    "        #hidden lyer errors is output_errors,split by weights,recombined at hidden nodes\n",
    "        hidden_errors = np.dot(self.who.T, output_errors)\n",
    "        \n",
    "        #update the weights between hidden and output layers\n",
    "        self.who += self.lr * np.dot((output_errors*final_outputs*(1.0 - final_outputs)),np.transpose(hidden_ouptuts))\n",
    "        \n",
    "        #update the weights between input and hidden layers\n",
    "        self.who += self.lr * np.dot((hidden_errors*hidden_ouptuts*(1.0 - hidden_ouptuts)),np.transpose(inputs))\n",
    "        pass\n",
    "    \n",
    "    #query the neural network\n",
    "    def query(self,inputs_list):\n",
    "        #convert inputd list to 2d array\n",
    "        inputs = np.array(inputs_list,ndmin = 2).T\n",
    "        # signals into hidden layer\n",
    "        hidden_inputs = np.dot(self.wih, inputs)\n",
    "        # signals emerging from the hidden layer\n",
    "        hidden_ouptuts = self.sigmoid(hidden_inputs)\n",
    "        # signals from hidden layer to output layer\n",
    "        final_inputs = np.dot(self.who,hidden_ouptuts)\n",
    "        # signal emerging from the output layer\n",
    "        final_outputs = self.sigmoid(final_inputs)\n",
    "        \n",
    "        return final_outputs"
   ]
  },
  {
   "cell_type": "code",
   "execution_count": 46,
   "metadata": {},
   "outputs": [],
   "source": [
    "#number of input, hidden and output nodes\n",
    "input_nodes = 3\n",
    "hidden_nodes = 3\n",
    "output_nodes = 3\n",
    "\n",
    "learning_rate = 0.3\n",
    "\n",
    "n = neuralNetwork(input_nodes,hidden_nodes,output_nodes,learning_rate)"
   ]
  },
  {
   "cell_type": "code",
   "execution_count": 47,
   "metadata": {
    "scrolled": true
   },
   "outputs": [
    {
     "data": {
      "text/plain": [
       "array([[ 0.44024713],\n",
       "       [ 0.64408965],\n",
       "       [ 0.39955699]])"
      ]
     },
     "execution_count": 47,
     "metadata": {},
     "output_type": "execute_result"
    }
   ],
   "source": [
    "n.query([1,0.5,-1.5])"
   ]
  },
  {
   "cell_type": "code",
   "execution_count": null,
   "metadata": {
    "collapsed": true
   },
   "outputs": [],
   "source": []
  }
 ],
 "metadata": {
  "kernelspec": {
   "display_name": "Python 3",
   "language": "python",
   "name": "python3"
  },
  "language_info": {
   "codemirror_mode": {
    "name": "ipython",
    "version": 3
   },
   "file_extension": ".py",
   "mimetype": "text/x-python",
   "name": "python",
   "nbconvert_exporter": "python",
   "pygments_lexer": "ipython3",
   "version": "3.6.3"
  }
 },
 "nbformat": 4,
 "nbformat_minor": 2
}
